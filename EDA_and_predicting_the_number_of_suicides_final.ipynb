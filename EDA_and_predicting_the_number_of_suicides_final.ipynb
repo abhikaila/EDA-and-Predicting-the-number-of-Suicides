{
  "nbformat": 4,
  "nbformat_minor": 0,
  "metadata": {
    "colab": {
      "name": "EDA and predicting the number of suicides - final.ipynb",
      "provenance": [],
      "collapsed_sections": []
    },
    "kernelspec": {
      "name": "python3",
      "display_name": "Python 3"
    }
  },
  "cells": [
    {
      "cell_type": "code",
      "metadata": {
        "id": "LF_Ww2fiwir-"
      },
      "source": [
        "import pandas as pd\n",
        "from sklearn.model_selection import train_test_split\n",
        "from sklearn.preprocessing import LabelEncoder\n",
        "from tensorflow import keras\n",
        "from keras.models import Sequential\n",
        "from keras.layers import Dense\n",
        "from keras.optimizers import SGD\n",
        "layers=keras.layers\n",
        "from sklearn.preprocessing import StandardScaler\n",
        "import matplotlib.pyplot as plt\n",
        "import seaborn as sns;"
      ],
      "execution_count": null,
      "outputs": []
    },
    {
      "cell_type": "code",
      "metadata": {
        "id": "iz52wY8-3S4X",
        "outputId": "4708e1b2-81a4-4a35-d29b-3e145a5039e7",
        "colab": {
          "base_uri": "https://localhost:8080/",
          "height": 34
        }
      },
      "source": [
        "from google.colab import drive\n",
        "drive.mount('/content/drive')"
      ],
      "execution_count": null,
      "outputs": [
        {
          "output_type": "stream",
          "text": [
            "Mounted at /content/drive\n"
          ],
          "name": "stdout"
        }
      ]
    },
    {
      "cell_type": "code",
      "metadata": {
        "id": "huvGGAAN3Vpk",
        "outputId": "c73d493c-693a-4287-f163-505ecf0af6a7",
        "colab": {
          "base_uri": "https://localhost:8080/",
          "height": 195
        }
      },
      "source": [
        "df = pd.read_csv('/content/drive/My Drive/Suicide Prediction/master.csv') \n",
        "df.head()"
      ],
      "execution_count": null,
      "outputs": [
        {
          "output_type": "execute_result",
          "data": {
            "text/html": [
              "<div>\n",
              "<style scoped>\n",
              "    .dataframe tbody tr th:only-of-type {\n",
              "        vertical-align: middle;\n",
              "    }\n",
              "\n",
              "    .dataframe tbody tr th {\n",
              "        vertical-align: top;\n",
              "    }\n",
              "\n",
              "    .dataframe thead th {\n",
              "        text-align: right;\n",
              "    }\n",
              "</style>\n",
              "<table border=\"1\" class=\"dataframe\">\n",
              "  <thead>\n",
              "    <tr style=\"text-align: right;\">\n",
              "      <th></th>\n",
              "      <th>country</th>\n",
              "      <th>year</th>\n",
              "      <th>sex</th>\n",
              "      <th>age</th>\n",
              "      <th>suicides_no</th>\n",
              "      <th>population</th>\n",
              "      <th>suicides/100k pop</th>\n",
              "      <th>country-year</th>\n",
              "      <th>HDI for year</th>\n",
              "      <th>gdp_for_year ($)</th>\n",
              "      <th>gdp_per_capita ($)</th>\n",
              "      <th>generation</th>\n",
              "    </tr>\n",
              "  </thead>\n",
              "  <tbody>\n",
              "    <tr>\n",
              "      <th>0</th>\n",
              "      <td>Albania</td>\n",
              "      <td>1987</td>\n",
              "      <td>male</td>\n",
              "      <td>15-24 years</td>\n",
              "      <td>21</td>\n",
              "      <td>312900</td>\n",
              "      <td>6.71</td>\n",
              "      <td>Albania1987</td>\n",
              "      <td>NaN</td>\n",
              "      <td>2,156,624,900</td>\n",
              "      <td>796</td>\n",
              "      <td>Generation X</td>\n",
              "    </tr>\n",
              "    <tr>\n",
              "      <th>1</th>\n",
              "      <td>Albania</td>\n",
              "      <td>1987</td>\n",
              "      <td>male</td>\n",
              "      <td>35-54 years</td>\n",
              "      <td>16</td>\n",
              "      <td>308000</td>\n",
              "      <td>5.19</td>\n",
              "      <td>Albania1987</td>\n",
              "      <td>NaN</td>\n",
              "      <td>2,156,624,900</td>\n",
              "      <td>796</td>\n",
              "      <td>Silent</td>\n",
              "    </tr>\n",
              "    <tr>\n",
              "      <th>2</th>\n",
              "      <td>Albania</td>\n",
              "      <td>1987</td>\n",
              "      <td>female</td>\n",
              "      <td>15-24 years</td>\n",
              "      <td>14</td>\n",
              "      <td>289700</td>\n",
              "      <td>4.83</td>\n",
              "      <td>Albania1987</td>\n",
              "      <td>NaN</td>\n",
              "      <td>2,156,624,900</td>\n",
              "      <td>796</td>\n",
              "      <td>Generation X</td>\n",
              "    </tr>\n",
              "    <tr>\n",
              "      <th>3</th>\n",
              "      <td>Albania</td>\n",
              "      <td>1987</td>\n",
              "      <td>male</td>\n",
              "      <td>75+ years</td>\n",
              "      <td>1</td>\n",
              "      <td>21800</td>\n",
              "      <td>4.59</td>\n",
              "      <td>Albania1987</td>\n",
              "      <td>NaN</td>\n",
              "      <td>2,156,624,900</td>\n",
              "      <td>796</td>\n",
              "      <td>G.I. Generation</td>\n",
              "    </tr>\n",
              "    <tr>\n",
              "      <th>4</th>\n",
              "      <td>Albania</td>\n",
              "      <td>1987</td>\n",
              "      <td>male</td>\n",
              "      <td>25-34 years</td>\n",
              "      <td>9</td>\n",
              "      <td>274300</td>\n",
              "      <td>3.28</td>\n",
              "      <td>Albania1987</td>\n",
              "      <td>NaN</td>\n",
              "      <td>2,156,624,900</td>\n",
              "      <td>796</td>\n",
              "      <td>Boomers</td>\n",
              "    </tr>\n",
              "  </tbody>\n",
              "</table>\n",
              "</div>"
            ],
            "text/plain": [
              "   country  year  ... gdp_per_capita ($)       generation\n",
              "0  Albania  1987  ...                796     Generation X\n",
              "1  Albania  1987  ...                796           Silent\n",
              "2  Albania  1987  ...                796     Generation X\n",
              "3  Albania  1987  ...                796  G.I. Generation\n",
              "4  Albania  1987  ...                796          Boomers\n",
              "\n",
              "[5 rows x 12 columns]"
            ]
          },
          "metadata": {
            "tags": []
          },
          "execution_count": 25
        }
      ]
    },
    {
      "cell_type": "code",
      "metadata": {
        "id": "AVlaZ8iYeH1A"
      },
      "source": [
        "df.info()"
      ],
      "execution_count": null,
      "outputs": []
    },
    {
      "cell_type": "code",
      "metadata": {
        "id": "AhOVolXIeJan",
        "outputId": "a2cb51cc-dcf4-4121-9b97-aa2ac111dc34",
        "colab": {
          "base_uri": "https://localhost:8080/",
          "height": 195
        }
      },
      "source": [
        "#renaming the columns\n",
        "df.columns=['country','year','gender','age_group','suicide_number','population','sui_pop','country_year','hdi','gdp_for_year','gdp_per_capita','generation']\n",
        "df.head()"
      ],
      "execution_count": null,
      "outputs": [
        {
          "output_type": "execute_result",
          "data": {
            "text/html": [
              "<div>\n",
              "<style scoped>\n",
              "    .dataframe tbody tr th:only-of-type {\n",
              "        vertical-align: middle;\n",
              "    }\n",
              "\n",
              "    .dataframe tbody tr th {\n",
              "        vertical-align: top;\n",
              "    }\n",
              "\n",
              "    .dataframe thead th {\n",
              "        text-align: right;\n",
              "    }\n",
              "</style>\n",
              "<table border=\"1\" class=\"dataframe\">\n",
              "  <thead>\n",
              "    <tr style=\"text-align: right;\">\n",
              "      <th></th>\n",
              "      <th>country</th>\n",
              "      <th>year</th>\n",
              "      <th>gender</th>\n",
              "      <th>age_group</th>\n",
              "      <th>suicide_number</th>\n",
              "      <th>population</th>\n",
              "      <th>sui_pop</th>\n",
              "      <th>country_year</th>\n",
              "      <th>hdi</th>\n",
              "      <th>gdp_for_year</th>\n",
              "      <th>gdp_per_capita</th>\n",
              "      <th>generation</th>\n",
              "    </tr>\n",
              "  </thead>\n",
              "  <tbody>\n",
              "    <tr>\n",
              "      <th>0</th>\n",
              "      <td>Albania</td>\n",
              "      <td>1987</td>\n",
              "      <td>male</td>\n",
              "      <td>15-24 years</td>\n",
              "      <td>21</td>\n",
              "      <td>312900</td>\n",
              "      <td>6.71</td>\n",
              "      <td>Albania1987</td>\n",
              "      <td>NaN</td>\n",
              "      <td>2,156,624,900</td>\n",
              "      <td>796</td>\n",
              "      <td>Generation X</td>\n",
              "    </tr>\n",
              "    <tr>\n",
              "      <th>1</th>\n",
              "      <td>Albania</td>\n",
              "      <td>1987</td>\n",
              "      <td>male</td>\n",
              "      <td>35-54 years</td>\n",
              "      <td>16</td>\n",
              "      <td>308000</td>\n",
              "      <td>5.19</td>\n",
              "      <td>Albania1987</td>\n",
              "      <td>NaN</td>\n",
              "      <td>2,156,624,900</td>\n",
              "      <td>796</td>\n",
              "      <td>Silent</td>\n",
              "    </tr>\n",
              "    <tr>\n",
              "      <th>2</th>\n",
              "      <td>Albania</td>\n",
              "      <td>1987</td>\n",
              "      <td>female</td>\n",
              "      <td>15-24 years</td>\n",
              "      <td>14</td>\n",
              "      <td>289700</td>\n",
              "      <td>4.83</td>\n",
              "      <td>Albania1987</td>\n",
              "      <td>NaN</td>\n",
              "      <td>2,156,624,900</td>\n",
              "      <td>796</td>\n",
              "      <td>Generation X</td>\n",
              "    </tr>\n",
              "    <tr>\n",
              "      <th>3</th>\n",
              "      <td>Albania</td>\n",
              "      <td>1987</td>\n",
              "      <td>male</td>\n",
              "      <td>75+ years</td>\n",
              "      <td>1</td>\n",
              "      <td>21800</td>\n",
              "      <td>4.59</td>\n",
              "      <td>Albania1987</td>\n",
              "      <td>NaN</td>\n",
              "      <td>2,156,624,900</td>\n",
              "      <td>796</td>\n",
              "      <td>G.I. Generation</td>\n",
              "    </tr>\n",
              "    <tr>\n",
              "      <th>4</th>\n",
              "      <td>Albania</td>\n",
              "      <td>1987</td>\n",
              "      <td>male</td>\n",
              "      <td>25-34 years</td>\n",
              "      <td>9</td>\n",
              "      <td>274300</td>\n",
              "      <td>3.28</td>\n",
              "      <td>Albania1987</td>\n",
              "      <td>NaN</td>\n",
              "      <td>2,156,624,900</td>\n",
              "      <td>796</td>\n",
              "      <td>Boomers</td>\n",
              "    </tr>\n",
              "  </tbody>\n",
              "</table>\n",
              "</div>"
            ],
            "text/plain": [
              "   country  year  gender  ...   gdp_for_year  gdp_per_capita       generation\n",
              "0  Albania  1987    male  ...  2,156,624,900             796     Generation X\n",
              "1  Albania  1987    male  ...  2,156,624,900             796           Silent\n",
              "2  Albania  1987  female  ...  2,156,624,900             796     Generation X\n",
              "3  Albania  1987    male  ...  2,156,624,900             796  G.I. Generation\n",
              "4  Albania  1987    male  ...  2,156,624,900             796          Boomers\n",
              "\n",
              "[5 rows x 12 columns]"
            ]
          },
          "metadata": {
            "tags": []
          },
          "execution_count": 26
        }
      ]
    },
    {
      "cell_type": "markdown",
      "metadata": {
        "id": "Gerbmt5ceZs4"
      },
      "source": [
        "# Data visualization"
      ]
    },
    {
      "cell_type": "code",
      "metadata": {
        "id": "14HVkxEte0N4",
        "outputId": "302bc154-650a-452f-87d9-5e62a8b14881",
        "colab": {
          "base_uri": "https://localhost:8080/",
          "height": 998
        }
      },
      "source": [
        "## Number of suicides in 1985\n",
        "year_1985 = df[(df['year'] == 1985)]\n",
        "year_1985 = year_1985.groupby('country')[['suicide_number']].sum().reset_index()\n",
        "\n",
        "## Sorting values in ascending order\n",
        "year_1985 = year_1985.sort_values(by='suicide_number', ascending=False)\n",
        "\n",
        "## Styling output dataframe\n",
        "year_1985.style.background_gradient(cmap='Purples', subset=['suicide_number'])"
      ],
      "execution_count": null,
      "outputs": [
        {
          "output_type": "execute_result",
          "data": {
            "text/html": [
              "<style  type=\"text/css\" >\n",
              "#T_60fe658c_0aa8_11eb_bee0_0242ac1c0002row0_col1{\n",
              "            background-color:  #3f007d;\n",
              "            color:  #f1f1f1;\n",
              "        }#T_60fe658c_0aa8_11eb_bee0_0242ac1c0002row1_col1{\n",
              "            background-color:  #63439c;\n",
              "            color:  #f1f1f1;\n",
              "        }#T_60fe658c_0aa8_11eb_bee0_0242ac1c0002row2_col1{\n",
              "            background-color:  #b0afd4;\n",
              "            color:  #000000;\n",
              "        }#T_60fe658c_0aa8_11eb_bee0_0242ac1c0002row3_col1{\n",
              "            background-color:  #e4e3f0;\n",
              "            color:  #000000;\n",
              "        }#T_60fe658c_0aa8_11eb_bee0_0242ac1c0002row4_col1{\n",
              "            background-color:  #e7e6f1;\n",
              "            color:  #000000;\n",
              "        }#T_60fe658c_0aa8_11eb_bee0_0242ac1c0002row5_col1{\n",
              "            background-color:  #e9e8f2;\n",
              "            color:  #000000;\n",
              "        }#T_60fe658c_0aa8_11eb_bee0_0242ac1c0002row6_col1{\n",
              "            background-color:  #ecebf4;\n",
              "            color:  #000000;\n",
              "        }#T_60fe658c_0aa8_11eb_bee0_0242ac1c0002row7_col1{\n",
              "            background-color:  #efedf5;\n",
              "            color:  #000000;\n",
              "        }#T_60fe658c_0aa8_11eb_bee0_0242ac1c0002row8_col1{\n",
              "            background-color:  #f1eff6;\n",
              "            color:  #000000;\n",
              "        }#T_60fe658c_0aa8_11eb_bee0_0242ac1c0002row9_col1{\n",
              "            background-color:  #f2f0f7;\n",
              "            color:  #000000;\n",
              "        }#T_60fe658c_0aa8_11eb_bee0_0242ac1c0002row10_col1{\n",
              "            background-color:  #f3f2f8;\n",
              "            color:  #000000;\n",
              "        }#T_60fe658c_0aa8_11eb_bee0_0242ac1c0002row11_col1{\n",
              "            background-color:  #f4f3f8;\n",
              "            color:  #000000;\n",
              "        }#T_60fe658c_0aa8_11eb_bee0_0242ac1c0002row12_col1{\n",
              "            background-color:  #f5f3f8;\n",
              "            color:  #000000;\n",
              "        }#T_60fe658c_0aa8_11eb_bee0_0242ac1c0002row13_col1,#T_60fe658c_0aa8_11eb_bee0_0242ac1c0002row14_col1{\n",
              "            background-color:  #f5f4f9;\n",
              "            color:  #000000;\n",
              "        }#T_60fe658c_0aa8_11eb_bee0_0242ac1c0002row15_col1{\n",
              "            background-color:  #f6f5f9;\n",
              "            color:  #000000;\n",
              "        }#T_60fe658c_0aa8_11eb_bee0_0242ac1c0002row16_col1{\n",
              "            background-color:  #f7f5fa;\n",
              "            color:  #000000;\n",
              "        }#T_60fe658c_0aa8_11eb_bee0_0242ac1c0002row17_col1{\n",
              "            background-color:  #f7f6fa;\n",
              "            color:  #000000;\n",
              "        }#T_60fe658c_0aa8_11eb_bee0_0242ac1c0002row18_col1,#T_60fe658c_0aa8_11eb_bee0_0242ac1c0002row19_col1{\n",
              "            background-color:  #f9f7fb;\n",
              "            color:  #000000;\n",
              "        }#T_60fe658c_0aa8_11eb_bee0_0242ac1c0002row20_col1{\n",
              "            background-color:  #faf9fc;\n",
              "            color:  #000000;\n",
              "        }#T_60fe658c_0aa8_11eb_bee0_0242ac1c0002row21_col1,#T_60fe658c_0aa8_11eb_bee0_0242ac1c0002row22_col1,#T_60fe658c_0aa8_11eb_bee0_0242ac1c0002row23_col1,#T_60fe658c_0aa8_11eb_bee0_0242ac1c0002row24_col1,#T_60fe658c_0aa8_11eb_bee0_0242ac1c0002row25_col1,#T_60fe658c_0aa8_11eb_bee0_0242ac1c0002row26_col1,#T_60fe658c_0aa8_11eb_bee0_0242ac1c0002row27_col1,#T_60fe658c_0aa8_11eb_bee0_0242ac1c0002row28_col1{\n",
              "            background-color:  #fbfafc;\n",
              "            color:  #000000;\n",
              "        }#T_60fe658c_0aa8_11eb_bee0_0242ac1c0002row29_col1,#T_60fe658c_0aa8_11eb_bee0_0242ac1c0002row30_col1,#T_60fe658c_0aa8_11eb_bee0_0242ac1c0002row31_col1,#T_60fe658c_0aa8_11eb_bee0_0242ac1c0002row32_col1,#T_60fe658c_0aa8_11eb_bee0_0242ac1c0002row33_col1,#T_60fe658c_0aa8_11eb_bee0_0242ac1c0002row34_col1,#T_60fe658c_0aa8_11eb_bee0_0242ac1c0002row35_col1,#T_60fe658c_0aa8_11eb_bee0_0242ac1c0002row36_col1,#T_60fe658c_0aa8_11eb_bee0_0242ac1c0002row37_col1,#T_60fe658c_0aa8_11eb_bee0_0242ac1c0002row38_col1,#T_60fe658c_0aa8_11eb_bee0_0242ac1c0002row39_col1,#T_60fe658c_0aa8_11eb_bee0_0242ac1c0002row40_col1,#T_60fe658c_0aa8_11eb_bee0_0242ac1c0002row41_col1,#T_60fe658c_0aa8_11eb_bee0_0242ac1c0002row42_col1,#T_60fe658c_0aa8_11eb_bee0_0242ac1c0002row43_col1,#T_60fe658c_0aa8_11eb_bee0_0242ac1c0002row44_col1,#T_60fe658c_0aa8_11eb_bee0_0242ac1c0002row45_col1,#T_60fe658c_0aa8_11eb_bee0_0242ac1c0002row46_col1,#T_60fe658c_0aa8_11eb_bee0_0242ac1c0002row47_col1{\n",
              "            background-color:  #fcfbfd;\n",
              "            color:  #000000;\n",
              "        }</style><table id=\"T_60fe658c_0aa8_11eb_bee0_0242ac1c0002\" ><thead>    <tr>        <th class=\"blank level0\" ></th>        <th class=\"col_heading level0 col0\" >country</th>        <th class=\"col_heading level0 col1\" >suicide_number</th>    </tr></thead><tbody>\n",
              "                <tr>\n",
              "                        <th id=\"T_60fe658c_0aa8_11eb_bee0_0242ac1c0002level0_row0\" class=\"row_heading level0 row0\" >46</th>\n",
              "                        <td id=\"T_60fe658c_0aa8_11eb_bee0_0242ac1c0002row0_col0\" class=\"data row0 col0\" >United States</td>\n",
              "                        <td id=\"T_60fe658c_0aa8_11eb_bee0_0242ac1c0002row0_col1\" class=\"data row0 col1\" >29446</td>\n",
              "            </tr>\n",
              "            <tr>\n",
              "                        <th id=\"T_60fe658c_0aa8_11eb_bee0_0242ac1c0002level0_row1\" class=\"row_heading level0 row1\" >24</th>\n",
              "                        <td id=\"T_60fe658c_0aa8_11eb_bee0_0242ac1c0002row1_col0\" class=\"data row1 col0\" >Japan</td>\n",
              "                        <td id=\"T_60fe658c_0aa8_11eb_bee0_0242ac1c0002row1_col1\" class=\"data row1 col1\" >23257</td>\n",
              "            </tr>\n",
              "            <tr>\n",
              "                        <th id=\"T_60fe658c_0aa8_11eb_bee0_0242ac1c0002level0_row2\" class=\"row_heading level0 row2\" >16</th>\n",
              "                        <td id=\"T_60fe658c_0aa8_11eb_bee0_0242ac1c0002row2_col0\" class=\"data row2 col0\" >France</td>\n",
              "                        <td id=\"T_60fe658c_0aa8_11eb_bee0_0242ac1c0002row2_col1\" class=\"data row2 col1\" >12501</td>\n",
              "            </tr>\n",
              "            <tr>\n",
              "                        <th id=\"T_60fe658c_0aa8_11eb_bee0_0242ac1c0002level0_row3\" class=\"row_heading level0 row3\" >41</th>\n",
              "                        <td id=\"T_60fe658c_0aa8_11eb_bee0_0242ac1c0002row3_col0\" class=\"data row3 col0\" >Sri Lanka</td>\n",
              "                        <td id=\"T_60fe658c_0aa8_11eb_bee0_0242ac1c0002row3_col1\" class=\"data row3 col1\" >5668</td>\n",
              "            </tr>\n",
              "            <tr>\n",
              "                        <th id=\"T_60fe658c_0aa8_11eb_bee0_0242ac1c0002level0_row4\" class=\"row_heading level0 row4\" >45</th>\n",
              "                        <td id=\"T_60fe658c_0aa8_11eb_bee0_0242ac1c0002row4_col0\" class=\"data row4 col0\" >United Kingdom</td>\n",
              "                        <td id=\"T_60fe658c_0aa8_11eb_bee0_0242ac1c0002row4_col1\" class=\"data row4 col1\" >5105</td>\n",
              "            </tr>\n",
              "            <tr>\n",
              "                        <th id=\"T_60fe658c_0aa8_11eb_bee0_0242ac1c0002level0_row5\" class=\"row_heading level0 row5\" >22</th>\n",
              "                        <td id=\"T_60fe658c_0aa8_11eb_bee0_0242ac1c0002row5_col0\" class=\"data row5 col0\" >Italy</td>\n",
              "                        <td id=\"T_60fe658c_0aa8_11eb_bee0_0242ac1c0002row5_col1\" class=\"data row5 col1\" >4759</td>\n",
              "            </tr>\n",
              "            <tr>\n",
              "                        <th id=\"T_60fe658c_0aa8_11eb_bee0_0242ac1c0002level0_row6\" class=\"row_heading level0 row6\" >8</th>\n",
              "                        <td id=\"T_60fe658c_0aa8_11eb_bee0_0242ac1c0002row6_col0\" class=\"data row6 col0\" >Brazil</td>\n",
              "                        <td id=\"T_60fe658c_0aa8_11eb_bee0_0242ac1c0002row6_col1\" class=\"data row6 col1\" >4228</td>\n",
              "            </tr>\n",
              "            <tr>\n",
              "                        <th id=\"T_60fe658c_0aa8_11eb_bee0_0242ac1c0002level0_row7\" class=\"row_heading level0 row7\" >36</th>\n",
              "                        <td id=\"T_60fe658c_0aa8_11eb_bee0_0242ac1c0002row7_col0\" class=\"data row7 col0\" >Republic of Korea</td>\n",
              "                        <td id=\"T_60fe658c_0aa8_11eb_bee0_0242ac1c0002row7_col1\" class=\"data row7 col1\" >3689</td>\n",
              "            </tr>\n",
              "            <tr>\n",
              "                        <th id=\"T_60fe658c_0aa8_11eb_bee0_0242ac1c0002level0_row8\" class=\"row_heading level0 row8\" >10</th>\n",
              "                        <td id=\"T_60fe658c_0aa8_11eb_bee0_0242ac1c0002row8_col0\" class=\"data row8 col0\" >Canada</td>\n",
              "                        <td id=\"T_60fe658c_0aa8_11eb_bee0_0242ac1c0002row8_col1\" class=\"data row8 col1\" >3258</td>\n",
              "            </tr>\n",
              "            <tr>\n",
              "                        <th id=\"T_60fe658c_0aa8_11eb_bee0_0242ac1c0002level0_row9\" class=\"row_heading level0 row9\" >43</th>\n",
              "                        <td id=\"T_60fe658c_0aa8_11eb_bee0_0242ac1c0002row9_col0\" class=\"data row9 col0\" >Thailand</td>\n",
              "                        <td id=\"T_60fe658c_0aa8_11eb_bee0_0242ac1c0002row9_col1\" class=\"data row9 col1\" >2982</td>\n",
              "            </tr>\n",
              "            <tr>\n",
              "                        <th id=\"T_60fe658c_0aa8_11eb_bee0_0242ac1c0002level0_row10\" class=\"row_heading level0 row10\" >40</th>\n",
              "                        <td id=\"T_60fe658c_0aa8_11eb_bee0_0242ac1c0002row10_col0\" class=\"data row10 col0\" >Spain</td>\n",
              "                        <td id=\"T_60fe658c_0aa8_11eb_bee0_0242ac1c0002row10_col1\" class=\"data row10 col1\" >2514</td>\n",
              "            </tr>\n",
              "            <tr>\n",
              "                        <th id=\"T_60fe658c_0aa8_11eb_bee0_0242ac1c0002level0_row11\" class=\"row_heading level0 row11\" >7</th>\n",
              "                        <td id=\"T_60fe658c_0aa8_11eb_bee0_0242ac1c0002row11_col0\" class=\"data row11 col0\" >Belgium</td>\n",
              "                        <td id=\"T_60fe658c_0aa8_11eb_bee0_0242ac1c0002row11_col1\" class=\"data row11 col1\" >2281</td>\n",
              "            </tr>\n",
              "            <tr>\n",
              "                        <th id=\"T_60fe658c_0aa8_11eb_bee0_0242ac1c0002level0_row12\" class=\"row_heading level0 row12\" >3</th>\n",
              "                        <td id=\"T_60fe658c_0aa8_11eb_bee0_0242ac1c0002row12_col0\" class=\"data row12 col0\" >Austria</td>\n",
              "                        <td id=\"T_60fe658c_0aa8_11eb_bee0_0242ac1c0002row12_col1\" class=\"data row12 col1\" >2091</td>\n",
              "            </tr>\n",
              "            <tr>\n",
              "                        <th id=\"T_60fe658c_0aa8_11eb_bee0_0242ac1c0002level0_row13\" class=\"row_heading level0 row13\" >1</th>\n",
              "                        <td id=\"T_60fe658c_0aa8_11eb_bee0_0242ac1c0002row13_col0\" class=\"data row13 col0\" >Argentina</td>\n",
              "                        <td id=\"T_60fe658c_0aa8_11eb_bee0_0242ac1c0002row13_col1\" class=\"data row13 col1\" >1988</td>\n",
              "            </tr>\n",
              "            <tr>\n",
              "                        <th id=\"T_60fe658c_0aa8_11eb_bee0_0242ac1c0002level0_row14\" class=\"row_heading level0 row14\" >2</th>\n",
              "                        <td id=\"T_60fe658c_0aa8_11eb_bee0_0242ac1c0002row14_col0\" class=\"data row14 col0\" >Australia</td>\n",
              "                        <td id=\"T_60fe658c_0aa8_11eb_bee0_0242ac1c0002row14_col1\" class=\"data row14 col1\" >1861</td>\n",
              "            </tr>\n",
              "            <tr>\n",
              "                        <th id=\"T_60fe658c_0aa8_11eb_bee0_0242ac1c0002level0_row15\" class=\"row_heading level0 row15\" >30</th>\n",
              "                        <td id=\"T_60fe658c_0aa8_11eb_bee0_0242ac1c0002row15_col0\" class=\"data row15 col0\" >Netherlands</td>\n",
              "                        <td id=\"T_60fe658c_0aa8_11eb_bee0_0242ac1c0002row15_col1\" class=\"data row15 col1\" >1638</td>\n",
              "            </tr>\n",
              "            <tr>\n",
              "                        <th id=\"T_60fe658c_0aa8_11eb_bee0_0242ac1c0002level0_row16\" class=\"row_heading level0 row16\" >29</th>\n",
              "                        <td id=\"T_60fe658c_0aa8_11eb_bee0_0242ac1c0002row16_col0\" class=\"data row16 col0\" >Mexico</td>\n",
              "                        <td id=\"T_60fe658c_0aa8_11eb_bee0_0242ac1c0002row16_col1\" class=\"data row16 col1\" >1544</td>\n",
              "            </tr>\n",
              "            <tr>\n",
              "                        <th id=\"T_60fe658c_0aa8_11eb_bee0_0242ac1c0002level0_row17\" class=\"row_heading level0 row17\" >9</th>\n",
              "                        <td id=\"T_60fe658c_0aa8_11eb_bee0_0242ac1c0002row17_col0\" class=\"data row17 col0\" >Bulgaria</td>\n",
              "                        <td id=\"T_60fe658c_0aa8_11eb_bee0_0242ac1c0002row17_col1\" class=\"data row17 col1\" >1456</td>\n",
              "            </tr>\n",
              "            <tr>\n",
              "                        <th id=\"T_60fe658c_0aa8_11eb_bee0_0242ac1c0002level0_row18\" class=\"row_heading level0 row18\" >12</th>\n",
              "                        <td id=\"T_60fe658c_0aa8_11eb_bee0_0242ac1c0002row18_col0\" class=\"data row18 col0\" >Colombia</td>\n",
              "                        <td id=\"T_60fe658c_0aa8_11eb_bee0_0242ac1c0002row18_col1\" class=\"data row18 col1\" >1001</td>\n",
              "            </tr>\n",
              "            <tr>\n",
              "                        <th id=\"T_60fe658c_0aa8_11eb_bee0_0242ac1c0002level0_row19\" class=\"row_heading level0 row19\" >34</th>\n",
              "                        <td id=\"T_60fe658c_0aa8_11eb_bee0_0242ac1c0002row19_col0\" class=\"data row19 col0\" >Portugal</td>\n",
              "                        <td id=\"T_60fe658c_0aa8_11eb_bee0_0242ac1c0002row19_col1\" class=\"data row19 col1\" >983</td>\n",
              "            </tr>\n",
              "            <tr>\n",
              "                        <th id=\"T_60fe658c_0aa8_11eb_bee0_0242ac1c0002level0_row20\" class=\"row_heading level0 row20\" >11</th>\n",
              "                        <td id=\"T_60fe658c_0aa8_11eb_bee0_0242ac1c0002row20_col0\" class=\"data row20 col0\" >Chile</td>\n",
              "                        <td id=\"T_60fe658c_0aa8_11eb_bee0_0242ac1c0002row20_col1\" class=\"data row20 col1\" >683</td>\n",
              "            </tr>\n",
              "            <tr>\n",
              "                        <th id=\"T_60fe658c_0aa8_11eb_bee0_0242ac1c0002level0_row21\" class=\"row_heading level0 row21\" >17</th>\n",
              "                        <td id=\"T_60fe658c_0aa8_11eb_bee0_0242ac1c0002row21_col0\" class=\"data row21 col0\" >Greece</td>\n",
              "                        <td id=\"T_60fe658c_0aa8_11eb_bee0_0242ac1c0002row21_col1\" class=\"data row21 col1\" >405</td>\n",
              "            </tr>\n",
              "            <tr>\n",
              "                        <th id=\"T_60fe658c_0aa8_11eb_bee0_0242ac1c0002level0_row22\" class=\"row_heading level0 row22\" >15</th>\n",
              "                        <td id=\"T_60fe658c_0aa8_11eb_bee0_0242ac1c0002row22_col0\" class=\"data row22 col0\" >Ecuador</td>\n",
              "                        <td id=\"T_60fe658c_0aa8_11eb_bee0_0242ac1c0002row22_col1\" class=\"data row22 col1\" >393</td>\n",
              "            </tr>\n",
              "            <tr>\n",
              "                        <th id=\"T_60fe658c_0aa8_11eb_bee0_0242ac1c0002level0_row23\" class=\"row_heading level0 row23\" >31</th>\n",
              "                        <td id=\"T_60fe658c_0aa8_11eb_bee0_0242ac1c0002row23_col0\" class=\"data row23 col0\" >New Zealand</td>\n",
              "                        <td id=\"T_60fe658c_0aa8_11eb_bee0_0242ac1c0002row23_col1\" class=\"data row23 col1\" >338</td>\n",
              "            </tr>\n",
              "            <tr>\n",
              "                        <th id=\"T_60fe658c_0aa8_11eb_bee0_0242ac1c0002level0_row24\" class=\"row_heading level0 row24\" >39</th>\n",
              "                        <td id=\"T_60fe658c_0aa8_11eb_bee0_0242ac1c0002row24_col0\" class=\"data row24 col0\" >Singapore</td>\n",
              "                        <td id=\"T_60fe658c_0aa8_11eb_bee0_0242ac1c0002row24_col1\" class=\"data row24 col1\" >324</td>\n",
              "            </tr>\n",
              "            <tr>\n",
              "                        <th id=\"T_60fe658c_0aa8_11eb_bee0_0242ac1c0002level0_row25\" class=\"row_heading level0 row25\" >47</th>\n",
              "                        <td id=\"T_60fe658c_0aa8_11eb_bee0_0242ac1c0002row25_col0\" class=\"data row25 col0\" >Uruguay</td>\n",
              "                        <td id=\"T_60fe658c_0aa8_11eb_bee0_0242ac1c0002row25_col1\" class=\"data row25 col1\" >287</td>\n",
              "            </tr>\n",
              "            <tr>\n",
              "                        <th id=\"T_60fe658c_0aa8_11eb_bee0_0242ac1c0002level0_row26\" class=\"row_heading level0 row26\" >20</th>\n",
              "                        <td id=\"T_60fe658c_0aa8_11eb_bee0_0242ac1c0002row26_col0\" class=\"data row26 col0\" >Ireland</td>\n",
              "                        <td id=\"T_60fe658c_0aa8_11eb_bee0_0242ac1c0002row26_col1\" class=\"data row26 col1\" >276</td>\n",
              "            </tr>\n",
              "            <tr>\n",
              "                        <th id=\"T_60fe658c_0aa8_11eb_bee0_0242ac1c0002level0_row27\" class=\"row_heading level0 row27\" >35</th>\n",
              "                        <td id=\"T_60fe658c_0aa8_11eb_bee0_0242ac1c0002row27_col0\" class=\"data row27 col0\" >Puerto Rico</td>\n",
              "                        <td id=\"T_60fe658c_0aa8_11eb_bee0_0242ac1c0002row27_col1\" class=\"data row27 col1\" >269</td>\n",
              "            </tr>\n",
              "            <tr>\n",
              "                        <th id=\"T_60fe658c_0aa8_11eb_bee0_0242ac1c0002level0_row28\" class=\"row_heading level0 row28\" >21</th>\n",
              "                        <td id=\"T_60fe658c_0aa8_11eb_bee0_0242ac1c0002row28_col0\" class=\"data row28 col0\" >Israel</td>\n",
              "                        <td id=\"T_60fe658c_0aa8_11eb_bee0_0242ac1c0002row28_col1\" class=\"data row28 col1\" >234</td>\n",
              "            </tr>\n",
              "            <tr>\n",
              "                        <th id=\"T_60fe658c_0aa8_11eb_bee0_0242ac1c0002level0_row29\" class=\"row_heading level0 row29\" >13</th>\n",
              "                        <td id=\"T_60fe658c_0aa8_11eb_bee0_0242ac1c0002row29_col0\" class=\"data row29 col0\" >Costa Rica</td>\n",
              "                        <td id=\"T_60fe658c_0aa8_11eb_bee0_0242ac1c0002row29_col1\" class=\"data row29 col1\" >128</td>\n",
              "            </tr>\n",
              "            <tr>\n",
              "                        <th id=\"T_60fe658c_0aa8_11eb_bee0_0242ac1c0002level0_row30\" class=\"row_heading level0 row30\" >28</th>\n",
              "                        <td id=\"T_60fe658c_0aa8_11eb_bee0_0242ac1c0002row30_col0\" class=\"data row30 col0\" >Mauritius</td>\n",
              "                        <td id=\"T_60fe658c_0aa8_11eb_bee0_0242ac1c0002row30_col1\" class=\"data row30 col1\" >104</td>\n",
              "            </tr>\n",
              "            <tr>\n",
              "                        <th id=\"T_60fe658c_0aa8_11eb_bee0_0242ac1c0002level0_row31\" class=\"row_heading level0 row31\" >42</th>\n",
              "                        <td id=\"T_60fe658c_0aa8_11eb_bee0_0242ac1c0002row31_col0\" class=\"data row31 col0\" >Suriname</td>\n",
              "                        <td id=\"T_60fe658c_0aa8_11eb_bee0_0242ac1c0002row31_col1\" class=\"data row31 col1\" >80</td>\n",
              "            </tr>\n",
              "            <tr>\n",
              "                        <th id=\"T_60fe658c_0aa8_11eb_bee0_0242ac1c0002level0_row32\" class=\"row_heading level0 row32\" >33</th>\n",
              "                        <td id=\"T_60fe658c_0aa8_11eb_bee0_0242ac1c0002row32_col0\" class=\"data row32 col0\" >Paraguay</td>\n",
              "                        <td id=\"T_60fe658c_0aa8_11eb_bee0_0242ac1c0002row32_col1\" class=\"data row32 col1\" >63</td>\n",
              "            </tr>\n",
              "            <tr>\n",
              "                        <th id=\"T_60fe658c_0aa8_11eb_bee0_0242ac1c0002level0_row33\" class=\"row_heading level0 row33\" >32</th>\n",
              "                        <td id=\"T_60fe658c_0aa8_11eb_bee0_0242ac1c0002row33_col0\" class=\"data row33 col0\" >Panama</td>\n",
              "                        <td id=\"T_60fe658c_0aa8_11eb_bee0_0242ac1c0002row33_col1\" class=\"data row33 col1\" >56</td>\n",
              "            </tr>\n",
              "            <tr>\n",
              "                        <th id=\"T_60fe658c_0aa8_11eb_bee0_0242ac1c0002level0_row34\" class=\"row_heading level0 row34\" >26</th>\n",
              "                        <td id=\"T_60fe658c_0aa8_11eb_bee0_0242ac1c0002row34_col0\" class=\"data row34 col0\" >Luxembourg</td>\n",
              "                        <td id=\"T_60fe658c_0aa8_11eb_bee0_0242ac1c0002row34_col1\" class=\"data row34 col1\" >55</td>\n",
              "            </tr>\n",
              "            <tr>\n",
              "                        <th id=\"T_60fe658c_0aa8_11eb_bee0_0242ac1c0002level0_row35\" class=\"row_heading level0 row35\" >19</th>\n",
              "                        <td id=\"T_60fe658c_0aa8_11eb_bee0_0242ac1c0002row35_col0\" class=\"data row35 col0\" >Iceland</td>\n",
              "                        <td id=\"T_60fe658c_0aa8_11eb_bee0_0242ac1c0002row35_col1\" class=\"data row35 col1\" >32</td>\n",
              "            </tr>\n",
              "            <tr>\n",
              "                        <th id=\"T_60fe658c_0aa8_11eb_bee0_0242ac1c0002level0_row36\" class=\"row_heading level0 row36\" >44</th>\n",
              "                        <td id=\"T_60fe658c_0aa8_11eb_bee0_0242ac1c0002row36_col0\" class=\"data row36 col0\" >Trinidad and Tobago</td>\n",
              "                        <td id=\"T_60fe658c_0aa8_11eb_bee0_0242ac1c0002row36_col1\" class=\"data row36 col1\" >29</td>\n",
              "            </tr>\n",
              "            <tr>\n",
              "                        <th id=\"T_60fe658c_0aa8_11eb_bee0_0242ac1c0002level0_row37\" class=\"row_heading level0 row37\" >25</th>\n",
              "                        <td id=\"T_60fe658c_0aa8_11eb_bee0_0242ac1c0002row37_col0\" class=\"data row37 col0\" >Kuwait</td>\n",
              "                        <td id=\"T_60fe658c_0aa8_11eb_bee0_0242ac1c0002row37_col1\" class=\"data row37 col1\" >17</td>\n",
              "            </tr>\n",
              "            <tr>\n",
              "                        <th id=\"T_60fe658c_0aa8_11eb_bee0_0242ac1c0002level0_row38\" class=\"row_heading level0 row38\" >5</th>\n",
              "                        <td id=\"T_60fe658c_0aa8_11eb_bee0_0242ac1c0002row38_col0\" class=\"data row38 col0\" >Bahrain</td>\n",
              "                        <td id=\"T_60fe658c_0aa8_11eb_bee0_0242ac1c0002row38_col1\" class=\"data row38 col1\" >11</td>\n",
              "            </tr>\n",
              "            <tr>\n",
              "                        <th id=\"T_60fe658c_0aa8_11eb_bee0_0242ac1c0002level0_row39\" class=\"row_heading level0 row39\" >23</th>\n",
              "                        <td id=\"T_60fe658c_0aa8_11eb_bee0_0242ac1c0002row39_col0\" class=\"data row39 col0\" >Jamaica</td>\n",
              "                        <td id=\"T_60fe658c_0aa8_11eb_bee0_0242ac1c0002row39_col1\" class=\"data row39 col1\" >8</td>\n",
              "            </tr>\n",
              "            <tr>\n",
              "                        <th id=\"T_60fe658c_0aa8_11eb_bee0_0242ac1c0002level0_row40\" class=\"row_heading level0 row40\" >38</th>\n",
              "                        <td id=\"T_60fe658c_0aa8_11eb_bee0_0242ac1c0002row40_col0\" class=\"data row40 col0\" >Seychelles</td>\n",
              "                        <td id=\"T_60fe658c_0aa8_11eb_bee0_0242ac1c0002row40_col1\" class=\"data row40 col1\" >8</td>\n",
              "            </tr>\n",
              "            <tr>\n",
              "                        <th id=\"T_60fe658c_0aa8_11eb_bee0_0242ac1c0002level0_row41\" class=\"row_heading level0 row41\" >6</th>\n",
              "                        <td id=\"T_60fe658c_0aa8_11eb_bee0_0242ac1c0002row41_col0\" class=\"data row41 col0\" >Barbados</td>\n",
              "                        <td id=\"T_60fe658c_0aa8_11eb_bee0_0242ac1c0002row41_col1\" class=\"data row41 col1\" >7</td>\n",
              "            </tr>\n",
              "            <tr>\n",
              "                        <th id=\"T_60fe658c_0aa8_11eb_bee0_0242ac1c0002level0_row42\" class=\"row_heading level0 row42\" >37</th>\n",
              "                        <td id=\"T_60fe658c_0aa8_11eb_bee0_0242ac1c0002row42_col0\" class=\"data row42 col0\" >Saint Vincent and Grenadines</td>\n",
              "                        <td id=\"T_60fe658c_0aa8_11eb_bee0_0242ac1c0002row42_col1\" class=\"data row42 col1\" >2</td>\n",
              "            </tr>\n",
              "            <tr>\n",
              "                        <th id=\"T_60fe658c_0aa8_11eb_bee0_0242ac1c0002level0_row43\" class=\"row_heading level0 row43\" >27</th>\n",
              "                        <td id=\"T_60fe658c_0aa8_11eb_bee0_0242ac1c0002row43_col0\" class=\"data row43 col0\" >Malta</td>\n",
              "                        <td id=\"T_60fe658c_0aa8_11eb_bee0_0242ac1c0002row43_col1\" class=\"data row43 col1\" >2</td>\n",
              "            </tr>\n",
              "            <tr>\n",
              "                        <th id=\"T_60fe658c_0aa8_11eb_bee0_0242ac1c0002level0_row44\" class=\"row_heading level0 row44\" >18</th>\n",
              "                        <td id=\"T_60fe658c_0aa8_11eb_bee0_0242ac1c0002row44_col0\" class=\"data row44 col0\" >Grenada</td>\n",
              "                        <td id=\"T_60fe658c_0aa8_11eb_bee0_0242ac1c0002row44_col1\" class=\"data row44 col1\" >1</td>\n",
              "            </tr>\n",
              "            <tr>\n",
              "                        <th id=\"T_60fe658c_0aa8_11eb_bee0_0242ac1c0002level0_row45\" class=\"row_heading level0 row45\" >4</th>\n",
              "                        <td id=\"T_60fe658c_0aa8_11eb_bee0_0242ac1c0002row45_col0\" class=\"data row45 col0\" >Bahamas</td>\n",
              "                        <td id=\"T_60fe658c_0aa8_11eb_bee0_0242ac1c0002row45_col1\" class=\"data row45 col1\" >1</td>\n",
              "            </tr>\n",
              "            <tr>\n",
              "                        <th id=\"T_60fe658c_0aa8_11eb_bee0_0242ac1c0002level0_row46\" class=\"row_heading level0 row46\" >14</th>\n",
              "                        <td id=\"T_60fe658c_0aa8_11eb_bee0_0242ac1c0002row46_col0\" class=\"data row46 col0\" >Dominica</td>\n",
              "                        <td id=\"T_60fe658c_0aa8_11eb_bee0_0242ac1c0002row46_col1\" class=\"data row46 col1\" >0</td>\n",
              "            </tr>\n",
              "            <tr>\n",
              "                        <th id=\"T_60fe658c_0aa8_11eb_bee0_0242ac1c0002level0_row47\" class=\"row_heading level0 row47\" >0</th>\n",
              "                        <td id=\"T_60fe658c_0aa8_11eb_bee0_0242ac1c0002row47_col0\" class=\"data row47 col0\" >Antigua and Barbuda</td>\n",
              "                        <td id=\"T_60fe658c_0aa8_11eb_bee0_0242ac1c0002row47_col1\" class=\"data row47 col1\" >0</td>\n",
              "            </tr>\n",
              "    </tbody></table>"
            ],
            "text/plain": [
              "<pandas.io.formats.style.Styler at 0x7f404c8d8ba8>"
            ]
          },
          "metadata": {
            "tags": []
          },
          "execution_count": 27
        }
      ]
    },
    {
      "cell_type": "code",
      "metadata": {
        "id": "fzj2nUa_e0QO",
        "outputId": "0918a3ec-03af-4969-ee5b-2bf27bd80028",
        "colab": {
          "base_uri": "https://localhost:8080/",
          "height": 1000
        }
      },
      "source": [
        "#Number of suicides in 2015\n",
        "year_2015 = df[(df['year'] == 2015)]\n",
        "year_2015 = year_2015.groupby('country')[['suicide_number']].sum().reset_index()\n",
        "\n",
        "# Sort values in ascending order\n",
        "year_2015 = year_2015.sort_values(by='suicide_number', ascending=False)\n",
        "\n",
        "# Styling output dataframe\n",
        "year_2015.style.background_gradient(cmap='Oranges', subset=['suicide_number'])"
      ],
      "execution_count": null,
      "outputs": [
        {
          "output_type": "execute_result",
          "data": {
            "text/html": [
              "<style  type=\"text/css\" >\n",
              "#T_dba7222c_0aaa_11eb_bee0_0242ac1c0002row0_col1{\n",
              "            background-color:  #7f2704;\n",
              "            color:  #f1f1f1;\n",
              "        }#T_dba7222c_0aaa_11eb_bee0_0242ac1c0002row1_col1{\n",
              "            background-color:  #f67723;\n",
              "            color:  #000000;\n",
              "        }#T_dba7222c_0aaa_11eb_bee0_0242ac1c0002row2_col1{\n",
              "            background-color:  #fb8735;\n",
              "            color:  #000000;\n",
              "        }#T_dba7222c_0aaa_11eb_bee0_0242ac1c0002row3_col1{\n",
              "            background-color:  #fdc189;\n",
              "            color:  #000000;\n",
              "        }#T_dba7222c_0aaa_11eb_bee0_0242ac1c0002row4_col1{\n",
              "            background-color:  #fdd0a2;\n",
              "            color:  #000000;\n",
              "        }#T_dba7222c_0aaa_11eb_bee0_0242ac1c0002row5_col1{\n",
              "            background-color:  #fdd4aa;\n",
              "            color:  #000000;\n",
              "        }#T_dba7222c_0aaa_11eb_bee0_0242ac1c0002row6_col1{\n",
              "            background-color:  #fedebf;\n",
              "            color:  #000000;\n",
              "        }#T_dba7222c_0aaa_11eb_bee0_0242ac1c0002row7_col1{\n",
              "            background-color:  #fee3c8;\n",
              "            color:  #000000;\n",
              "        }#T_dba7222c_0aaa_11eb_bee0_0242ac1c0002row8_col1{\n",
              "            background-color:  #fee6cf;\n",
              "            color:  #000000;\n",
              "        }#T_dba7222c_0aaa_11eb_bee0_0242ac1c0002row9_col1{\n",
              "            background-color:  #fee8d2;\n",
              "            color:  #000000;\n",
              "        }#T_dba7222c_0aaa_11eb_bee0_0242ac1c0002row10_col1{\n",
              "            background-color:  #feead5;\n",
              "            color:  #000000;\n",
              "        }#T_dba7222c_0aaa_11eb_bee0_0242ac1c0002row11_col1{\n",
              "            background-color:  #feead6;\n",
              "            color:  #000000;\n",
              "        }#T_dba7222c_0aaa_11eb_bee0_0242ac1c0002row12_col1{\n",
              "            background-color:  #feecd9;\n",
              "            color:  #000000;\n",
              "        }#T_dba7222c_0aaa_11eb_bee0_0242ac1c0002row13_col1,#T_dba7222c_0aaa_11eb_bee0_0242ac1c0002row14_col1,#T_dba7222c_0aaa_11eb_bee0_0242ac1c0002row15_col1{\n",
              "            background-color:  #feeddc;\n",
              "            color:  #000000;\n",
              "        }#T_dba7222c_0aaa_11eb_bee0_0242ac1c0002row16_col1{\n",
              "            background-color:  #ffefdf;\n",
              "            color:  #000000;\n",
              "        }#T_dba7222c_0aaa_11eb_bee0_0242ac1c0002row17_col1{\n",
              "            background-color:  #ffefe0;\n",
              "            color:  #000000;\n",
              "        }#T_dba7222c_0aaa_11eb_bee0_0242ac1c0002row18_col1,#T_dba7222c_0aaa_11eb_bee0_0242ac1c0002row19_col1,#T_dba7222c_0aaa_11eb_bee0_0242ac1c0002row20_col1,#T_dba7222c_0aaa_11eb_bee0_0242ac1c0002row21_col1{\n",
              "            background-color:  #fff0e2;\n",
              "            color:  #000000;\n",
              "        }#T_dba7222c_0aaa_11eb_bee0_0242ac1c0002row22_col1,#T_dba7222c_0aaa_11eb_bee0_0242ac1c0002row23_col1,#T_dba7222c_0aaa_11eb_bee0_0242ac1c0002row24_col1{\n",
              "            background-color:  #fff1e4;\n",
              "            color:  #000000;\n",
              "        }#T_dba7222c_0aaa_11eb_bee0_0242ac1c0002row25_col1{\n",
              "            background-color:  #fff2e5;\n",
              "            color:  #000000;\n",
              "        }#T_dba7222c_0aaa_11eb_bee0_0242ac1c0002row26_col1,#T_dba7222c_0aaa_11eb_bee0_0242ac1c0002row27_col1,#T_dba7222c_0aaa_11eb_bee0_0242ac1c0002row28_col1,#T_dba7222c_0aaa_11eb_bee0_0242ac1c0002row29_col1{\n",
              "            background-color:  #fff2e6;\n",
              "            color:  #000000;\n",
              "        }#T_dba7222c_0aaa_11eb_bee0_0242ac1c0002row30_col1{\n",
              "            background-color:  #fff3e6;\n",
              "            color:  #000000;\n",
              "        }#T_dba7222c_0aaa_11eb_bee0_0242ac1c0002row31_col1,#T_dba7222c_0aaa_11eb_bee0_0242ac1c0002row32_col1{\n",
              "            background-color:  #fff3e7;\n",
              "            color:  #000000;\n",
              "        }#T_dba7222c_0aaa_11eb_bee0_0242ac1c0002row33_col1,#T_dba7222c_0aaa_11eb_bee0_0242ac1c0002row34_col1,#T_dba7222c_0aaa_11eb_bee0_0242ac1c0002row35_col1,#T_dba7222c_0aaa_11eb_bee0_0242ac1c0002row36_col1{\n",
              "            background-color:  #fff4e8;\n",
              "            color:  #000000;\n",
              "        }#T_dba7222c_0aaa_11eb_bee0_0242ac1c0002row37_col1,#T_dba7222c_0aaa_11eb_bee0_0242ac1c0002row38_col1,#T_dba7222c_0aaa_11eb_bee0_0242ac1c0002row39_col1,#T_dba7222c_0aaa_11eb_bee0_0242ac1c0002row40_col1,#T_dba7222c_0aaa_11eb_bee0_0242ac1c0002row41_col1{\n",
              "            background-color:  #fff4e9;\n",
              "            color:  #000000;\n",
              "        }#T_dba7222c_0aaa_11eb_bee0_0242ac1c0002row42_col1,#T_dba7222c_0aaa_11eb_bee0_0242ac1c0002row43_col1,#T_dba7222c_0aaa_11eb_bee0_0242ac1c0002row44_col1,#T_dba7222c_0aaa_11eb_bee0_0242ac1c0002row45_col1,#T_dba7222c_0aaa_11eb_bee0_0242ac1c0002row46_col1,#T_dba7222c_0aaa_11eb_bee0_0242ac1c0002row47_col1{\n",
              "            background-color:  #fff5ea;\n",
              "            color:  #000000;\n",
              "        }#T_dba7222c_0aaa_11eb_bee0_0242ac1c0002row48_col1,#T_dba7222c_0aaa_11eb_bee0_0242ac1c0002row49_col1,#T_dba7222c_0aaa_11eb_bee0_0242ac1c0002row50_col1,#T_dba7222c_0aaa_11eb_bee0_0242ac1c0002row51_col1,#T_dba7222c_0aaa_11eb_bee0_0242ac1c0002row52_col1,#T_dba7222c_0aaa_11eb_bee0_0242ac1c0002row53_col1,#T_dba7222c_0aaa_11eb_bee0_0242ac1c0002row54_col1,#T_dba7222c_0aaa_11eb_bee0_0242ac1c0002row55_col1,#T_dba7222c_0aaa_11eb_bee0_0242ac1c0002row56_col1,#T_dba7222c_0aaa_11eb_bee0_0242ac1c0002row57_col1,#T_dba7222c_0aaa_11eb_bee0_0242ac1c0002row58_col1,#T_dba7222c_0aaa_11eb_bee0_0242ac1c0002row59_col1,#T_dba7222c_0aaa_11eb_bee0_0242ac1c0002row60_col1,#T_dba7222c_0aaa_11eb_bee0_0242ac1c0002row61_col1{\n",
              "            background-color:  #fff5eb;\n",
              "            color:  #000000;\n",
              "        }</style><table id=\"T_dba7222c_0aaa_11eb_bee0_0242ac1c0002\" ><thead>    <tr>        <th class=\"blank level0\" ></th>        <th class=\"col_heading level0 col0\" >country</th>        <th class=\"col_heading level0 col1\" >suicide_number</th>    </tr></thead><tbody>\n",
              "                <tr>\n",
              "                        <th id=\"T_dba7222c_0aaa_11eb_bee0_0242ac1c0002level0_row0\" class=\"row_heading level0 row0\" >60</th>\n",
              "                        <td id=\"T_dba7222c_0aaa_11eb_bee0_0242ac1c0002row0_col0\" class=\"data row0 col0\" >98</td>\n",
              "                        <td id=\"T_dba7222c_0aaa_11eb_bee0_0242ac1c0002row0_col1\" class=\"data row0 col1\" >44189</td>\n",
              "            </tr>\n",
              "            <tr>\n",
              "                        <th id=\"T_dba7222c_0aaa_11eb_bee0_0242ac1c0002level0_row1\" class=\"row_heading level0 row1\" >45</th>\n",
              "                        <td id=\"T_dba7222c_0aaa_11eb_bee0_0242ac1c0002row1_col0\" class=\"data row1 col0\" >75</td>\n",
              "                        <td id=\"T_dba7222c_0aaa_11eb_bee0_0242ac1c0002row1_col1\" class=\"data row1 col1\" >25432</td>\n",
              "            </tr>\n",
              "            <tr>\n",
              "                        <th id=\"T_dba7222c_0aaa_11eb_bee0_0242ac1c0002level0_row2\" class=\"row_heading level0 row2\" >27</th>\n",
              "                        <td id=\"T_dba7222c_0aaa_11eb_bee0_0242ac1c0002row2_col0\" class=\"data row2 col0\" >46</td>\n",
              "                        <td id=\"T_dba7222c_0aaa_11eb_bee0_0242ac1c0002row2_col1\" class=\"data row2 col1\" >23092</td>\n",
              "            </tr>\n",
              "            <tr>\n",
              "                        <th id=\"T_dba7222c_0aaa_11eb_bee0_0242ac1c0002level0_row3\" class=\"row_heading level0 row3\" >43</th>\n",
              "                        <td id=\"T_dba7222c_0aaa_11eb_bee0_0242ac1c0002row3_col0\" class=\"data row3 col0\" >73</td>\n",
              "                        <td id=\"T_dba7222c_0aaa_11eb_bee0_0242ac1c0002row3_col1\" class=\"data row3 col1\" >13510</td>\n",
              "            </tr>\n",
              "            <tr>\n",
              "                        <th id=\"T_dba7222c_0aaa_11eb_bee0_0242ac1c0002level0_row4\" class=\"row_heading level0 row4\" >7</th>\n",
              "                        <td id=\"T_dba7222c_0aaa_11eb_bee0_0242ac1c0002row4_col0\" class=\"data row4 col0\" >15</td>\n",
              "                        <td id=\"T_dba7222c_0aaa_11eb_bee0_0242ac1c0002row4_col1\" class=\"data row4 col1\" >11163</td>\n",
              "            </tr>\n",
              "            <tr>\n",
              "                        <th id=\"T_dba7222c_0aaa_11eb_bee0_0242ac1c0002level0_row5\" class=\"row_heading level0 row5\" >19</th>\n",
              "                        <td id=\"T_dba7222c_0aaa_11eb_bee0_0242ac1c0002row5_col0\" class=\"data row5 col0\" >35</td>\n",
              "                        <td id=\"T_dba7222c_0aaa_11eb_bee0_0242ac1c0002row5_col1\" class=\"data row5 col1\" >10088</td>\n",
              "            </tr>\n",
              "            <tr>\n",
              "                        <th id=\"T_dba7222c_0aaa_11eb_bee0_0242ac1c0002level0_row6\" class=\"row_heading level0 row6\" >58</th>\n",
              "                        <td id=\"T_dba7222c_0aaa_11eb_bee0_0242ac1c0002row6_col0\" class=\"data row6 col0\" >95</td>\n",
              "                        <td id=\"T_dba7222c_0aaa_11eb_bee0_0242ac1c0002row6_col1\" class=\"data row6 col1\" >7574</td>\n",
              "            </tr>\n",
              "            <tr>\n",
              "                        <th id=\"T_dba7222c_0aaa_11eb_bee0_0242ac1c0002level0_row7\" class=\"row_heading level0 row7\" >35</th>\n",
              "                        <td id=\"T_dba7222c_0aaa_11eb_bee0_0242ac1c0002row7_col0\" class=\"data row7 col0\" >58</td>\n",
              "                        <td id=\"T_dba7222c_0aaa_11eb_bee0_0242ac1c0002row7_col1\" class=\"data row7 col1\" >6234</td>\n",
              "            </tr>\n",
              "            <tr>\n",
              "                        <th id=\"T_dba7222c_0aaa_11eb_bee0_0242ac1c0002level0_row8\" class=\"row_heading level0 row8\" >40</th>\n",
              "                        <td id=\"T_dba7222c_0aaa_11eb_bee0_0242ac1c0002row8_col0\" class=\"data row8 col0\" >69</td>\n",
              "                        <td id=\"T_dba7222c_0aaa_11eb_bee0_0242ac1c0002row8_col1\" class=\"data row8 col1\" >5420</td>\n",
              "            </tr>\n",
              "            <tr>\n",
              "                        <th id=\"T_dba7222c_0aaa_11eb_bee0_0242ac1c0002level0_row9\" class=\"row_heading level0 row9\" >59</th>\n",
              "                        <td id=\"T_dba7222c_0aaa_11eb_bee0_0242ac1c0002row9_col0\" class=\"data row9 col0\" >97</td>\n",
              "                        <td id=\"T_dba7222c_0aaa_11eb_bee0_0242ac1c0002row9_col1\" class=\"data row9 col1\" >4910</td>\n",
              "            </tr>\n",
              "            <tr>\n",
              "                        <th id=\"T_dba7222c_0aaa_11eb_bee0_0242ac1c0002level0_row10\" class=\"row_heading level0 row10\" >55</th>\n",
              "                        <td id=\"T_dba7222c_0aaa_11eb_bee0_0242ac1c0002row10_col0\" class=\"data row10 col0\" >91</td>\n",
              "                        <td id=\"T_dba7222c_0aaa_11eb_bee0_0242ac1c0002row10_col1\" class=\"data row10 col1\" >4205</td>\n",
              "            </tr>\n",
              "            <tr>\n",
              "                        <th id=\"T_dba7222c_0aaa_11eb_bee0_0242ac1c0002level0_row11\" class=\"row_heading level0 row11\" >26</th>\n",
              "                        <td id=\"T_dba7222c_0aaa_11eb_bee0_0242ac1c0002row11_col0\" class=\"data row11 col0\" >44</td>\n",
              "                        <td id=\"T_dba7222c_0aaa_11eb_bee0_0242ac1c0002row11_col1\" class=\"data row11 col1\" >3988</td>\n",
              "            </tr>\n",
              "            <tr>\n",
              "                        <th id=\"T_dba7222c_0aaa_11eb_bee0_0242ac1c0002level0_row12\" class=\"row_heading level0 row12\" >52</th>\n",
              "                        <td id=\"T_dba7222c_0aaa_11eb_bee0_0242ac1c0002row12_col0\" class=\"data row12 col0\" >86</td>\n",
              "                        <td id=\"T_dba7222c_0aaa_11eb_bee0_0242ac1c0002row12_col1\" class=\"data row12 col1\" >3604</td>\n",
              "            </tr>\n",
              "            <tr>\n",
              "                        <th id=\"T_dba7222c_0aaa_11eb_bee0_0242ac1c0002level0_row13\" class=\"row_heading level0 row13\" >1</th>\n",
              "                        <td id=\"T_dba7222c_0aaa_11eb_bee0_0242ac1c0002row13_col0\" class=\"data row13 col0\" >2</td>\n",
              "                        <td id=\"T_dba7222c_0aaa_11eb_bee0_0242ac1c0002row13_col1\" class=\"data row13 col1\" >3073</td>\n",
              "            </tr>\n",
              "            <tr>\n",
              "                        <th id=\"T_dba7222c_0aaa_11eb_bee0_0242ac1c0002level0_row14\" class=\"row_heading level0 row14\" >3</th>\n",
              "                        <td id=\"T_dba7222c_0aaa_11eb_bee0_0242ac1c0002row14_col0\" class=\"data row14 col0\" >5</td>\n",
              "                        <td id=\"T_dba7222c_0aaa_11eb_bee0_0242ac1c0002row14_col1\" class=\"data row14 col1\" >3027</td>\n",
              "            </tr>\n",
              "            <tr>\n",
              "                        <th id=\"T_dba7222c_0aaa_11eb_bee0_0242ac1c0002level0_row15\" class=\"row_heading level0 row15\" >28</th>\n",
              "                        <td id=\"T_dba7222c_0aaa_11eb_bee0_0242ac1c0002row15_col0\" class=\"data row15 col0\" >47</td>\n",
              "                        <td id=\"T_dba7222c_0aaa_11eb_bee0_0242ac1c0002row15_col1\" class=\"data row15 col1\" >2872</td>\n",
              "            </tr>\n",
              "            <tr>\n",
              "                        <th id=\"T_dba7222c_0aaa_11eb_bee0_0242ac1c0002level0_row16\" class=\"row_heading level0 row16\" >9</th>\n",
              "                        <td id=\"T_dba7222c_0aaa_11eb_bee0_0242ac1c0002row16_col0\" class=\"data row16 col0\" >20</td>\n",
              "                        <td id=\"T_dba7222c_0aaa_11eb_bee0_0242ac1c0002row16_col1\" class=\"data row16 col1\" >2332</td>\n",
              "            </tr>\n",
              "            <tr>\n",
              "                        <th id=\"T_dba7222c_0aaa_11eb_bee0_0242ac1c0002level0_row17\" class=\"row_heading level0 row17\" >44</th>\n",
              "                        <td id=\"T_dba7222c_0aaa_11eb_bee0_0242ac1c0002row17_col0\" class=\"data row17 col0\" >74</td>\n",
              "                        <td id=\"T_dba7222c_0aaa_11eb_bee0_0242ac1c0002row17_col1\" class=\"data row17 col1\" >2228</td>\n",
              "            </tr>\n",
              "            <tr>\n",
              "                        <th id=\"T_dba7222c_0aaa_11eb_bee0_0242ac1c0002level0_row18\" class=\"row_heading level0 row18\" >36</th>\n",
              "                        <td id=\"T_dba7222c_0aaa_11eb_bee0_0242ac1c0002row18_col0\" class=\"data row18 col0\" >61</td>\n",
              "                        <td id=\"T_dba7222c_0aaa_11eb_bee0_0242ac1c0002row18_col1\" class=\"data row18 col1\" >1873</td>\n",
              "            </tr>\n",
              "            <tr>\n",
              "                        <th id=\"T_dba7222c_0aaa_11eb_bee0_0242ac1c0002level0_row19\" class=\"row_heading level0 row19\" >23</th>\n",
              "                        <td id=\"T_dba7222c_0aaa_11eb_bee0_0242ac1c0002row19_col0\" class=\"data row19 col0\" >40</td>\n",
              "                        <td id=\"T_dba7222c_0aaa_11eb_bee0_0242ac1c0002row19_col1\" class=\"data row19 col1\" >1868</td>\n",
              "            </tr>\n",
              "            <tr>\n",
              "                        <th id=\"T_dba7222c_0aaa_11eb_bee0_0242ac1c0002level0_row20\" class=\"row_heading level0 row20\" >5</th>\n",
              "                        <td id=\"T_dba7222c_0aaa_11eb_bee0_0242ac1c0002row20_col0\" class=\"data row20 col0\" >12</td>\n",
              "                        <td id=\"T_dba7222c_0aaa_11eb_bee0_0242ac1c0002row20_col1\" class=\"data row20 col1\" >1867</td>\n",
              "            </tr>\n",
              "            <tr>\n",
              "                        <th id=\"T_dba7222c_0aaa_11eb_bee0_0242ac1c0002level0_row21\" class=\"row_heading level0 row21\" >8</th>\n",
              "                        <td id=\"T_dba7222c_0aaa_11eb_bee0_0242ac1c0002row21_col0\" class=\"data row21 col0\" >19</td>\n",
              "                        <td id=\"T_dba7222c_0aaa_11eb_bee0_0242ac1c0002row21_col1\" class=\"data row21 col1\" >1838</td>\n",
              "            </tr>\n",
              "            <tr>\n",
              "                        <th id=\"T_dba7222c_0aaa_11eb_bee0_0242ac1c0002level0_row22\" class=\"row_heading level0 row22\" >56</th>\n",
              "                        <td id=\"T_dba7222c_0aaa_11eb_bee0_0242ac1c0002row22_col0\" class=\"data row22 col0\" >93</td>\n",
              "                        <td id=\"T_dba7222c_0aaa_11eb_bee0_0242ac1c0002row22_col1\" class=\"data row22 col1\" >1532</td>\n",
              "            </tr>\n",
              "            <tr>\n",
              "                        <th id=\"T_dba7222c_0aaa_11eb_bee0_0242ac1c0002level0_row23\" class=\"row_heading level0 row23\" >11</th>\n",
              "                        <td id=\"T_dba7222c_0aaa_11eb_bee0_0242ac1c0002row23_col0\" class=\"data row23 col0\" >23</td>\n",
              "                        <td id=\"T_dba7222c_0aaa_11eb_bee0_0242ac1c0002row23_col1\" class=\"data row23 col1\" >1511</td>\n",
              "            </tr>\n",
              "            <tr>\n",
              "                        <th id=\"T_dba7222c_0aaa_11eb_bee0_0242ac1c0002level0_row24\" class=\"row_heading level0 row24\" >13</th>\n",
              "                        <td id=\"T_dba7222c_0aaa_11eb_bee0_0242ac1c0002row24_col0\" class=\"data row24 col0\" >25</td>\n",
              "                        <td id=\"T_dba7222c_0aaa_11eb_bee0_0242ac1c0002row24_col1\" class=\"data row24 col1\" >1387</td>\n",
              "            </tr>\n",
              "            <tr>\n",
              "                        <th id=\"T_dba7222c_0aaa_11eb_bee0_0242ac1c0002level0_row25\" class=\"row_heading level0 row25\" >4</th>\n",
              "                        <td id=\"T_dba7222c_0aaa_11eb_bee0_0242ac1c0002row25_col0\" class=\"data row25 col0\" >6</td>\n",
              "                        <td id=\"T_dba7222c_0aaa_11eb_bee0_0242ac1c0002row25_col1\" class=\"data row25 col1\" >1251</td>\n",
              "            </tr>\n",
              "            <tr>\n",
              "                        <th id=\"T_dba7222c_0aaa_11eb_bee0_0242ac1c0002level0_row26\" class=\"row_heading level0 row26\" >53</th>\n",
              "                        <td id=\"T_dba7222c_0aaa_11eb_bee0_0242ac1c0002row26_col0\" class=\"data row26 col0\" >89</td>\n",
              "                        <td id=\"T_dba7222c_0aaa_11eb_bee0_0242ac1c0002row26_col1\" class=\"data row26 col1\" >1182</td>\n",
              "            </tr>\n",
              "            <tr>\n",
              "                        <th id=\"T_dba7222c_0aaa_11eb_bee0_0242ac1c0002level0_row27\" class=\"row_heading level0 row27\" >54</th>\n",
              "                        <td id=\"T_dba7222c_0aaa_11eb_bee0_0242ac1c0002row27_col0\" class=\"data row27 col0\" >90</td>\n",
              "                        <td id=\"T_dba7222c_0aaa_11eb_bee0_0242ac1c0002row27_col1\" class=\"data row27 col1\" >1073</td>\n",
              "            </tr>\n",
              "            <tr>\n",
              "                        <th id=\"T_dba7222c_0aaa_11eb_bee0_0242ac1c0002level0_row28\" class=\"row_heading level0 row28\" >15</th>\n",
              "                        <td id=\"T_dba7222c_0aaa_11eb_bee0_0242ac1c0002row28_col0\" class=\"data row28 col0\" >28</td>\n",
              "                        <td id=\"T_dba7222c_0aaa_11eb_bee0_0242ac1c0002row28_col1\" class=\"data row28 col1\" >1073</td>\n",
              "            </tr>\n",
              "            <tr>\n",
              "                        <th id=\"T_dba7222c_0aaa_11eb_bee0_0242ac1c0002level0_row29\" class=\"row_heading level0 row29\" >47</th>\n",
              "                        <td id=\"T_dba7222c_0aaa_11eb_bee0_0242ac1c0002row29_col0\" class=\"data row29 col0\" >80</td>\n",
              "                        <td id=\"T_dba7222c_0aaa_11eb_bee0_0242ac1c0002row29_col1\" class=\"data row29 col1\" >1062</td>\n",
              "            </tr>\n",
              "            <tr>\n",
              "                        <th id=\"T_dba7222c_0aaa_11eb_bee0_0242ac1c0002level0_row30\" class=\"row_heading level0 row30\" >31</th>\n",
              "                        <td id=\"T_dba7222c_0aaa_11eb_bee0_0242ac1c0002row30_col0\" class=\"data row30 col0\" >52</td>\n",
              "                        <td id=\"T_dba7222c_0aaa_11eb_bee0_0242ac1c0002row30_col1\" class=\"data row30 col1\" >896</td>\n",
              "            </tr>\n",
              "            <tr>\n",
              "                        <th id=\"T_dba7222c_0aaa_11eb_bee0_0242ac1c0002level0_row31\" class=\"row_heading level0 row31\" >10</th>\n",
              "                        <td id=\"T_dba7222c_0aaa_11eb_bee0_0242ac1c0002row31_col0\" class=\"data row31 col0\" >22</td>\n",
              "                        <td id=\"T_dba7222c_0aaa_11eb_bee0_0242ac1c0002row31_col1\" class=\"data row31 col1\" >739</td>\n",
              "            </tr>\n",
              "            <tr>\n",
              "                        <th id=\"T_dba7222c_0aaa_11eb_bee0_0242ac1c0002level0_row32\" class=\"row_heading level0 row32\" >17</th>\n",
              "                        <td id=\"T_dba7222c_0aaa_11eb_bee0_0242ac1c0002row32_col0\" class=\"data row32 col0\" >32</td>\n",
              "                        <td id=\"T_dba7222c_0aaa_11eb_bee0_0242ac1c0002row32_col1\" class=\"data row32 col1\" >731</td>\n",
              "            </tr>\n",
              "            <tr>\n",
              "                        <th id=\"T_dba7222c_0aaa_11eb_bee0_0242ac1c0002level0_row33\" class=\"row_heading level0 row33\" >61</th>\n",
              "                        <td id=\"T_dba7222c_0aaa_11eb_bee0_0242ac1c0002row33_col0\" class=\"data row33 col0\" >99</td>\n",
              "                        <td id=\"T_dba7222c_0aaa_11eb_bee0_0242ac1c0002row33_col1\" class=\"data row33 col1\" >630</td>\n",
              "            </tr>\n",
              "            <tr>\n",
              "                        <th id=\"T_dba7222c_0aaa_11eb_bee0_0242ac1c0002level0_row34\" class=\"row_heading level0 row34\" >38</th>\n",
              "                        <td id=\"T_dba7222c_0aaa_11eb_bee0_0242ac1c0002row34_col0\" class=\"data row34 col0\" >64</td>\n",
              "                        <td id=\"T_dba7222c_0aaa_11eb_bee0_0242ac1c0002row34_col1\" class=\"data row34 col1\" >590</td>\n",
              "            </tr>\n",
              "            <tr>\n",
              "                        <th id=\"T_dba7222c_0aaa_11eb_bee0_0242ac1c0002level0_row35\" class=\"row_heading level0 row35\" >14</th>\n",
              "                        <td id=\"T_dba7222c_0aaa_11eb_bee0_0242ac1c0002row35_col0\" class=\"data row35 col0\" >26</td>\n",
              "                        <td id=\"T_dba7222c_0aaa_11eb_bee0_0242ac1c0002row35_col1\" class=\"data row35 col1\" >564</td>\n",
              "            </tr>\n",
              "            <tr>\n",
              "                        <th id=\"T_dba7222c_0aaa_11eb_bee0_0242ac1c0002level0_row36\" class=\"row_heading level0 row36\" >20</th>\n",
              "                        <td id=\"T_dba7222c_0aaa_11eb_bee0_0242ac1c0002row36_col0\" class=\"data row36 col0\" >36</td>\n",
              "                        <td id=\"T_dba7222c_0aaa_11eb_bee0_0242ac1c0002row36_col1\" class=\"data row36 col1\" >529</td>\n",
              "            </tr>\n",
              "            <tr>\n",
              "                        <th id=\"T_dba7222c_0aaa_11eb_bee0_0242ac1c0002level0_row37\" class=\"row_heading level0 row37\" >22</th>\n",
              "                        <td id=\"T_dba7222c_0aaa_11eb_bee0_0242ac1c0002row37_col0\" class=\"data row37 col0\" >38</td>\n",
              "                        <td id=\"T_dba7222c_0aaa_11eb_bee0_0242ac1c0002row37_col1\" class=\"data row37 col1\" >494</td>\n",
              "            </tr>\n",
              "            <tr>\n",
              "                        <th id=\"T_dba7222c_0aaa_11eb_bee0_0242ac1c0002level0_row38\" class=\"row_heading level0 row38\" >51</th>\n",
              "                        <td id=\"T_dba7222c_0aaa_11eb_bee0_0242ac1c0002row38_col0\" class=\"data row38 col0\" >85</td>\n",
              "                        <td id=\"T_dba7222c_0aaa_11eb_bee0_0242ac1c0002row38_col1\" class=\"data row38 col1\" >482</td>\n",
              "            </tr>\n",
              "            <tr>\n",
              "                        <th id=\"T_dba7222c_0aaa_11eb_bee0_0242ac1c0002level0_row39\" class=\"row_heading level0 row39\" >50</th>\n",
              "                        <td id=\"T_dba7222c_0aaa_11eb_bee0_0242ac1c0002row39_col0\" class=\"data row39 col0\" >84</td>\n",
              "                        <td id=\"T_dba7222c_0aaa_11eb_bee0_0242ac1c0002row39_col1\" class=\"data row39 col1\" >422</td>\n",
              "            </tr>\n",
              "            <tr>\n",
              "                        <th id=\"T_dba7222c_0aaa_11eb_bee0_0242ac1c0002level0_row40\" class=\"row_heading level0 row40\" >29</th>\n",
              "                        <td id=\"T_dba7222c_0aaa_11eb_bee0_0242ac1c0002row40_col0\" class=\"data row40 col0\" >50</td>\n",
              "                        <td id=\"T_dba7222c_0aaa_11eb_bee0_0242ac1c0002row40_col1\" class=\"data row40 col1\" >417</td>\n",
              "            </tr>\n",
              "            <tr>\n",
              "                        <th id=\"T_dba7222c_0aaa_11eb_bee0_0242ac1c0002level0_row41\" class=\"row_heading level0 row41\" >30</th>\n",
              "                        <td id=\"T_dba7222c_0aaa_11eb_bee0_0242ac1c0002row41_col0\" class=\"data row41 col0\" >51</td>\n",
              "                        <td id=\"T_dba7222c_0aaa_11eb_bee0_0242ac1c0002row41_col1\" class=\"data row41 col1\" >387</td>\n",
              "            </tr>\n",
              "            <tr>\n",
              "                        <th id=\"T_dba7222c_0aaa_11eb_bee0_0242ac1c0002level0_row42\" class=\"row_heading level0 row42\" >25</th>\n",
              "                        <td id=\"T_dba7222c_0aaa_11eb_bee0_0242ac1c0002row42_col0\" class=\"data row42 col0\" >43</td>\n",
              "                        <td id=\"T_dba7222c_0aaa_11eb_bee0_0242ac1c0002row42_col1\" class=\"data row42 col1\" >342</td>\n",
              "            </tr>\n",
              "            <tr>\n",
              "                        <th id=\"T_dba7222c_0aaa_11eb_bee0_0242ac1c0002level0_row43\" class=\"row_heading level0 row43\" >49</th>\n",
              "                        <td id=\"T_dba7222c_0aaa_11eb_bee0_0242ac1c0002row43_col0\" class=\"data row43 col0\" >82</td>\n",
              "                        <td id=\"T_dba7222c_0aaa_11eb_bee0_0242ac1c0002row43_col1\" class=\"data row43 col1\" >329</td>\n",
              "            </tr>\n",
              "            <tr>\n",
              "                        <th id=\"T_dba7222c_0aaa_11eb_bee0_0242ac1c0002level0_row44\" class=\"row_heading level0 row44\" >37</th>\n",
              "                        <td id=\"T_dba7222c_0aaa_11eb_bee0_0242ac1c0002row44_col0\" class=\"data row44 col0\" >63</td>\n",
              "                        <td id=\"T_dba7222c_0aaa_11eb_bee0_0242ac1c0002row44_col1\" class=\"data row44 col1\" >315</td>\n",
              "            </tr>\n",
              "            <tr>\n",
              "                        <th id=\"T_dba7222c_0aaa_11eb_bee0_0242ac1c0002level0_row45\" class=\"row_heading level0 row45\" >41</th>\n",
              "                        <td id=\"T_dba7222c_0aaa_11eb_bee0_0242ac1c0002row45_col0\" class=\"data row45 col0\" >71</td>\n",
              "                        <td id=\"T_dba7222c_0aaa_11eb_bee0_0242ac1c0002row45_col1\" class=\"data row45 col1\" >226</td>\n",
              "            </tr>\n",
              "            <tr>\n",
              "                        <th id=\"T_dba7222c_0aaa_11eb_bee0_0242ac1c0002level0_row46\" class=\"row_heading level0 row46\" >16</th>\n",
              "                        <td id=\"T_dba7222c_0aaa_11eb_bee0_0242ac1c0002row46_col0\" class=\"data row46 col0\" >30</td>\n",
              "                        <td id=\"T_dba7222c_0aaa_11eb_bee0_0242ac1c0002row46_col1\" class=\"data row46 col1\" >195</td>\n",
              "            </tr>\n",
              "            <tr>\n",
              "                        <th id=\"T_dba7222c_0aaa_11eb_bee0_0242ac1c0002level0_row47\" class=\"row_heading level0 row47\" >18</th>\n",
              "                        <td id=\"T_dba7222c_0aaa_11eb_bee0_0242ac1c0002row47_col0\" class=\"data row47 col0\" >34</td>\n",
              "                        <td id=\"T_dba7222c_0aaa_11eb_bee0_0242ac1c0002row47_col1\" class=\"data row47 col1\" >192</td>\n",
              "            </tr>\n",
              "            <tr>\n",
              "                        <th id=\"T_dba7222c_0aaa_11eb_bee0_0242ac1c0002level0_row48\" class=\"row_heading level0 row48\" >57</th>\n",
              "                        <td id=\"T_dba7222c_0aaa_11eb_bee0_0242ac1c0002row48_col0\" class=\"data row48 col0\" >94</td>\n",
              "                        <td id=\"T_dba7222c_0aaa_11eb_bee0_0242ac1c0002row48_col1\" class=\"data row48 col1\" >133</td>\n",
              "            </tr>\n",
              "            <tr>\n",
              "                        <th id=\"T_dba7222c_0aaa_11eb_bee0_0242ac1c0002level0_row49\" class=\"row_heading level0 row49\" >39</th>\n",
              "                        <td id=\"T_dba7222c_0aaa_11eb_bee0_0242ac1c0002row49_col0\" class=\"data row49 col0\" >66</td>\n",
              "                        <td id=\"T_dba7222c_0aaa_11eb_bee0_0242ac1c0002row49_col1\" class=\"data row49 col1\" >110</td>\n",
              "            </tr>\n",
              "            <tr>\n",
              "                        <th id=\"T_dba7222c_0aaa_11eb_bee0_0242ac1c0002level0_row50\" class=\"row_heading level0 row50\" >34</th>\n",
              "                        <td id=\"T_dba7222c_0aaa_11eb_bee0_0242ac1c0002row50_col0\" class=\"data row50 col0\" >57</td>\n",
              "                        <td id=\"T_dba7222c_0aaa_11eb_bee0_0242ac1c0002row50_col1\" class=\"data row50 col1\" >104</td>\n",
              "            </tr>\n",
              "            <tr>\n",
              "                        <th id=\"T_dba7222c_0aaa_11eb_bee0_0242ac1c0002level0_row51\" class=\"row_heading level0 row51\" >2</th>\n",
              "                        <td id=\"T_dba7222c_0aaa_11eb_bee0_0242ac1c0002row51_col0\" class=\"data row51 col0\" >3</td>\n",
              "                        <td id=\"T_dba7222c_0aaa_11eb_bee0_0242ac1c0002row51_col1\" class=\"data row51 col1\" >74</td>\n",
              "            </tr>\n",
              "            <tr>\n",
              "                        <th id=\"T_dba7222c_0aaa_11eb_bee0_0242ac1c0002level0_row52\" class=\"row_heading level0 row52\" >42</th>\n",
              "                        <td id=\"T_dba7222c_0aaa_11eb_bee0_0242ac1c0002row52_col0\" class=\"data row52 col0\" >72</td>\n",
              "                        <td id=\"T_dba7222c_0aaa_11eb_bee0_0242ac1c0002row52_col1\" class=\"data row52 col1\" >66</td>\n",
              "            </tr>\n",
              "            <tr>\n",
              "                        <th id=\"T_dba7222c_0aaa_11eb_bee0_0242ac1c0002level0_row53\" class=\"row_heading level0 row53\" >32</th>\n",
              "                        <td id=\"T_dba7222c_0aaa_11eb_bee0_0242ac1c0002row53_col0\" class=\"data row53 col0\" >53</td>\n",
              "                        <td id=\"T_dba7222c_0aaa_11eb_bee0_0242ac1c0002row53_col1\" class=\"data row53 col1\" >64</td>\n",
              "            </tr>\n",
              "            <tr>\n",
              "                        <th id=\"T_dba7222c_0aaa_11eb_bee0_0242ac1c0002level0_row54\" class=\"row_heading level0 row54\" >12</th>\n",
              "                        <td id=\"T_dba7222c_0aaa_11eb_bee0_0242ac1c0002row54_col0\" class=\"data row54 col0\" >24</td>\n",
              "                        <td id=\"T_dba7222c_0aaa_11eb_bee0_0242ac1c0002row54_col1\" class=\"data row54 col1\" >40</td>\n",
              "            </tr>\n",
              "            <tr>\n",
              "                        <th id=\"T_dba7222c_0aaa_11eb_bee0_0242ac1c0002level0_row55\" class=\"row_heading level0 row55\" >24</th>\n",
              "                        <td id=\"T_dba7222c_0aaa_11eb_bee0_0242ac1c0002row55_col0\" class=\"data row55 col0\" >41</td>\n",
              "                        <td id=\"T_dba7222c_0aaa_11eb_bee0_0242ac1c0002row55_col1\" class=\"data row55 col1\" >40</td>\n",
              "            </tr>\n",
              "            <tr>\n",
              "                        <th id=\"T_dba7222c_0aaa_11eb_bee0_0242ac1c0002level0_row56\" class=\"row_heading level0 row56\" >33</th>\n",
              "                        <td id=\"T_dba7222c_0aaa_11eb_bee0_0242ac1c0002row56_col0\" class=\"data row56 col0\" >56</td>\n",
              "                        <td id=\"T_dba7222c_0aaa_11eb_bee0_0242ac1c0002row56_col1\" class=\"data row56 col1\" >34</td>\n",
              "            </tr>\n",
              "            <tr>\n",
              "                        <th id=\"T_dba7222c_0aaa_11eb_bee0_0242ac1c0002level0_row57\" class=\"row_heading level0 row57\" >6</th>\n",
              "                        <td id=\"T_dba7222c_0aaa_11eb_bee0_0242ac1c0002row57_col0\" class=\"data row57 col0\" >13</td>\n",
              "                        <td id=\"T_dba7222c_0aaa_11eb_bee0_0242ac1c0002row57_col1\" class=\"data row57 col1\" >26</td>\n",
              "            </tr>\n",
              "            <tr>\n",
              "                        <th id=\"T_dba7222c_0aaa_11eb_bee0_0242ac1c0002level0_row58\" class=\"row_heading level0 row58\" >48</th>\n",
              "                        <td id=\"T_dba7222c_0aaa_11eb_bee0_0242ac1c0002row58_col0\" class=\"data row58 col0\" >81</td>\n",
              "                        <td id=\"T_dba7222c_0aaa_11eb_bee0_0242ac1c0002row58_col1\" class=\"data row58 col1\" >7</td>\n",
              "            </tr>\n",
              "            <tr>\n",
              "                        <th id=\"T_dba7222c_0aaa_11eb_bee0_0242ac1c0002level0_row59\" class=\"row_heading level0 row59\" >46</th>\n",
              "                        <td id=\"T_dba7222c_0aaa_11eb_bee0_0242ac1c0002row59_col0\" class=\"data row59 col0\" >78</td>\n",
              "                        <td id=\"T_dba7222c_0aaa_11eb_bee0_0242ac1c0002row59_col1\" class=\"data row59 col1\" >3</td>\n",
              "            </tr>\n",
              "            <tr>\n",
              "                        <th id=\"T_dba7222c_0aaa_11eb_bee0_0242ac1c0002level0_row60\" class=\"row_heading level0 row60\" >0</th>\n",
              "                        <td id=\"T_dba7222c_0aaa_11eb_bee0_0242ac1c0002row60_col0\" class=\"data row60 col0\" >1</td>\n",
              "                        <td id=\"T_dba7222c_0aaa_11eb_bee0_0242ac1c0002row60_col1\" class=\"data row60 col1\" >1</td>\n",
              "            </tr>\n",
              "            <tr>\n",
              "                        <th id=\"T_dba7222c_0aaa_11eb_bee0_0242ac1c0002level0_row61\" class=\"row_heading level0 row61\" >21</th>\n",
              "                        <td id=\"T_dba7222c_0aaa_11eb_bee0_0242ac1c0002row61_col0\" class=\"data row61 col0\" >37</td>\n",
              "                        <td id=\"T_dba7222c_0aaa_11eb_bee0_0242ac1c0002row61_col1\" class=\"data row61 col1\" >0</td>\n",
              "            </tr>\n",
              "    </tbody></table>"
            ],
            "text/plain": [
              "<pandas.io.formats.style.Styler at 0x7f404c7dd5c0>"
            ]
          },
          "metadata": {
            "tags": []
          },
          "execution_count": 56
        }
      ]
    },
    {
      "cell_type": "code",
      "metadata": {
        "id": "dZPiAvZV7TWP",
        "outputId": "4f7cf47c-fe85-431a-d121-5b531585cd5b",
        "colab": {
          "base_uri": "https://localhost:8080/",
          "height": 388
        }
      },
      "source": [
        "## Suicides number by year\n",
        "f,ax = plt.subplots(1,1,figsize=(16,6))\n",
        "ax = sns.barplot(x = df['year'], y = 'suicide_number',\n",
        "                data=df, palette='Spectral_r')"
      ],
      "execution_count": null,
      "outputs": [
        {
          "output_type": "display_data",
          "data": {
            "image/png": "[encoded data removed]",
            "text/plain": [
              "<Figure size 1152x432 with 1 Axes>"
            ]
          },
          "metadata": {
            "tags": [],
            "needs_background": "light"
          }
        }
      ]
    },
    {
      "cell_type": "code",
      "metadata": {
        "id": "g5M9ceIZe8O5",
        "outputId": "70c792da-3b22-42c7-eded-4ae304feea58",
        "colab": {
          "base_uri": "https://localhost:8080/",
          "height": 457
        }
      },
      "source": [
        "## Suicides number by generation and gender\n",
        "f,ax = plt.subplots(1,1,figsize=(13,6))\n",
        "ax = sns.barplot(x = df['generation'], y = 'suicide_number',\n",
        "                  hue='gender',data=df, palette='YlOrBr_r')\n",
        "plt.xticks(rotation=45)"
      ],
      "execution_count": null,
      "outputs": [
        {
          "output_type": "execute_result",
          "data": {
            "text/plain": [
              "(array([0, 1, 2, 3, 4, 5]), <a list of 6 Text major ticklabel objects>)"
            ]
          },
          "metadata": {
            "tags": []
          },
          "execution_count": 30
        },
        {
          "output_type": "display_data",
          "data": {
            "image/png": "[encoded data removed]",
            "text/plain": [
              "<Figure size 936x432 with 1 Axes>"
            ]
          },
          "metadata": {
            "tags": [],
            "needs_background": "light"
          }
        }
      ]
    },
    {
      "cell_type": "code",
      "metadata": {
        "id": "dUWIr5Og6JWO",
        "outputId": "de892559-8a83-4e3f-dd46-bf7a0bb9c8ad",
        "colab": {
          "base_uri": "https://localhost:8080/",
          "height": 388
        }
      },
      "source": [
        "## Suicides number by age and sex\n",
        "f,ax = plt.subplots(1,1,figsize=(13,6))\n",
        "ax = sns.barplot(x = df['age_group'], y = 'suicide_number',\n",
        "                  hue='gender',data=df, palette='Blues')"
      ],
      "execution_count": null,
      "outputs": [
        {
          "output_type": "display_data",
          "data": {
            "image/png": "[encoded data removed]",
            "text/plain": [
              "<Figure size 936x432 with 1 Axes>"
            ]
          },
          "metadata": {
            "tags": [],
            "needs_background": "light"
          }
        }
      ]
    },
    {
      "cell_type": "code",
      "metadata": {
        "id": "YgBsW4_5LZcf",
        "outputId": "1bc3fe20-2e53-4db9-fa87-ad1de1d6eedd",
        "colab": {
          "base_uri": "https://localhost:8080/",
          "height": 417
        }
      },
      "source": [
        "plt.figure(figsize=(10,10))\n",
        "sns.catplot(x=\"gender\", y=\"suicide_number\",\n",
        "                 hue=\"generation\",\n",
        "                 data=df, kind=\"bar\")\n",
        "plt.title('for generation & suicide number')\n",
        "plt.show()"
      ],
      "execution_count": null,
      "outputs": [
        {
          "output_type": "display_data",
          "data": {
            "text/plain": [
              "<Figure size 720x720 with 0 Axes>"
            ]
          },
          "metadata": {
            "tags": []
          }
        },
        {
          "output_type": "display_data",
          "data": {
            "image/png": "[encoded data removed]",
            "text/plain": [
              "<Figure size 472x360 with 1 Axes>"
            ]
          },
          "metadata": {
            "tags": [],
            "needs_background": "light"
          }
        }
      ]
    },
    {
      "cell_type": "code",
      "metadata": {
        "id": "UVATMYRNhipi",
        "outputId": "5bebeb3b-d6fe-47b0-b226-91e7f1a67847",
        "colab": {
          "base_uri": "https://localhost:8080/",
          "height": 357
        }
      },
      "source": [
        "corr = df.corr()\n",
        "sns.heatmap(corr, xticklabels=corr.columns.values, yticklabels=corr.columns.values)"
      ],
      "execution_count": null,
      "outputs": [
        {
          "output_type": "execute_result",
          "data": {
            "text/plain": [
              "<matplotlib.axes._subplots.AxesSubplot at 0x7f4041407cf8>"
            ]
          },
          "metadata": {
            "tags": []
          },
          "execution_count": 33
        },
        {
          "output_type": "display_data",
          "data": {
            "image/png": "[encoded data removed]",
            "text/plain": [
              "<Figure size 432x288 with 2 Axes>"
            ]
          },
          "metadata": {
            "tags": [],
            "needs_background": "light"
          }
        }
      ]
    },
    {
      "cell_type": "code",
      "metadata": {
        "id": "mv2T2u5Oe0B_",
        "outputId": "0ba9b94c-1bfb-434c-d0fc-8d002ca1f6a4",
        "colab": {
          "base_uri": "https://localhost:8080/",
          "height": 295
        }
      },
      "source": [
        "## Mean suicides number by gender and 100k population\n",
        "df1=df\n",
        "data = df1.groupby([\"year\", \"gender\"]).agg(\"mean\").reset_index()\n",
        "sns.lineplot(x = \"year\", y = \"sui_pop\", hue = \"gender\", data = df1)\n",
        "plt.title(\"Evolution of the mean suicides number per 100k population (1985 - 2015)\");"
      ],
      "execution_count": null,
      "outputs": [
        {
          "output_type": "display_data",
          "data": {
            "image/png": "[encoded data removed]",
            "text/plain": [
              "<Figure size 432x288 with 1 Axes>"
            ]
          },
          "metadata": {
            "tags": [],
            "needs_background": "light"
          }
        }
      ]
    },
    {
      "cell_type": "code",
      "metadata": {
        "id": "fbxQIv2we0LQ",
        "outputId": "7f11fc2b-76e2-4121-efa4-3016bbf67c2f",
        "colab": {
          "base_uri": "https://localhost:8080/",
          "height": 758
        }
      },
      "source": [
        "df1 = df1.groupby([\"year\", \"gender\", \"age_group\"]).agg(\"mean\").reset_index()\n",
        "\n",
        "sns.relplot(x = \"year\", y = \"sui_pop\", \n",
        "            hue = \"gender\", col = \"age_group\", col_wrap = 3, data = df1, \n",
        "            facet_kws=dict(sharey=False), kind = \"line\")\n",
        "plt.subplots_adjust(top = 0.9)\n",
        "plt.suptitle(\"Evolution of suicide by sex and age category (1985 - 2015)\", size=15)"
      ],
      "execution_count": null,
      "outputs": [
        {
          "output_type": "execute_result",
          "data": {
            "text/plain": [
              "Text(0.5, 0.98, 'Evolution of suicide by sex and age category (1985 - 2015)')"
            ]
          },
          "metadata": {
            "tags": []
          },
          "execution_count": 36
        },
        {
          "output_type": "display_data",
          "data": {
            "image/png": "[encoded data removed]",
            "text/plain": [
              "<Figure size 1150.5x720 with 6 Axes>"
            ]
          },
          "metadata": {
            "tags": [],
            "needs_background": "light"
          }
        }
      ]
    },
    {
      "cell_type": "code",
      "metadata": {
        "id": "myHoGZk2e8W_",
        "outputId": "bccf4b14-69c5-4c4e-957b-ddfdf552f4c0",
        "colab": {
          "base_uri": "https://localhost:8080/",
          "height": 195
        }
      },
      "source": [
        "df.head()"
      ],
      "execution_count": null,
      "outputs": [
        {
          "output_type": "execute_result",
          "data": {
            "text/html": [
              "<div>\n",
              "<style scoped>\n",
              "    .dataframe tbody tr th:only-of-type {\n",
              "        vertical-align: middle;\n",
              "    }\n",
              "\n",
              "    .dataframe tbody tr th {\n",
              "        vertical-align: top;\n",
              "    }\n",
              "\n",
              "    .dataframe thead th {\n",
              "        text-align: right;\n",
              "    }\n",
              "</style>\n",
              "<table border=\"1\" class=\"dataframe\">\n",
              "  <thead>\n",
              "    <tr style=\"text-align: right;\">\n",
              "      <th></th>\n",
              "      <th>country</th>\n",
              "      <th>year</th>\n",
              "      <th>gender</th>\n",
              "      <th>age_group</th>\n",
              "      <th>suicide_number</th>\n",
              "      <th>population</th>\n",
              "      <th>sui_pop</th>\n",
              "      <th>country_year</th>\n",
              "      <th>hdi</th>\n",
              "      <th>gdp_for_year</th>\n",
              "      <th>gdp_per_capita</th>\n",
              "      <th>generation</th>\n",
              "    </tr>\n",
              "  </thead>\n",
              "  <tbody>\n",
              "    <tr>\n",
              "      <th>0</th>\n",
              "      <td>Albania</td>\n",
              "      <td>1987</td>\n",
              "      <td>male</td>\n",
              "      <td>15-24 years</td>\n",
              "      <td>21</td>\n",
              "      <td>312900</td>\n",
              "      <td>6.71</td>\n",
              "      <td>Albania1987</td>\n",
              "      <td>NaN</td>\n",
              "      <td>2,156,624,900</td>\n",
              "      <td>796</td>\n",
              "      <td>Generation X</td>\n",
              "    </tr>\n",
              "    <tr>\n",
              "      <th>1</th>\n",
              "      <td>Albania</td>\n",
              "      <td>1987</td>\n",
              "      <td>male</td>\n",
              "      <td>35-54 years</td>\n",
              "      <td>16</td>\n",
              "      <td>308000</td>\n",
              "      <td>5.19</td>\n",
              "      <td>Albania1987</td>\n",
              "      <td>NaN</td>\n",
              "      <td>2,156,624,900</td>\n",
              "      <td>796</td>\n",
              "      <td>Silent</td>\n",
              "    </tr>\n",
              "    <tr>\n",
              "      <th>2</th>\n",
              "      <td>Albania</td>\n",
              "      <td>1987</td>\n",
              "      <td>female</td>\n",
              "      <td>15-24 years</td>\n",
              "      <td>14</td>\n",
              "      <td>289700</td>\n",
              "      <td>4.83</td>\n",
              "      <td>Albania1987</td>\n",
              "      <td>NaN</td>\n",
              "      <td>2,156,624,900</td>\n",
              "      <td>796</td>\n",
              "      <td>Generation X</td>\n",
              "    </tr>\n",
              "    <tr>\n",
              "      <th>3</th>\n",
              "      <td>Albania</td>\n",
              "      <td>1987</td>\n",
              "      <td>male</td>\n",
              "      <td>75+ years</td>\n",
              "      <td>1</td>\n",
              "      <td>21800</td>\n",
              "      <td>4.59</td>\n",
              "      <td>Albania1987</td>\n",
              "      <td>NaN</td>\n",
              "      <td>2,156,624,900</td>\n",
              "      <td>796</td>\n",
              "      <td>G.I. Generation</td>\n",
              "    </tr>\n",
              "    <tr>\n",
              "      <th>4</th>\n",
              "      <td>Albania</td>\n",
              "      <td>1987</td>\n",
              "      <td>male</td>\n",
              "      <td>25-34 years</td>\n",
              "      <td>9</td>\n",
              "      <td>274300</td>\n",
              "      <td>3.28</td>\n",
              "      <td>Albania1987</td>\n",
              "      <td>NaN</td>\n",
              "      <td>2,156,624,900</td>\n",
              "      <td>796</td>\n",
              "      <td>Boomers</td>\n",
              "    </tr>\n",
              "  </tbody>\n",
              "</table>\n",
              "</div>"
            ],
            "text/plain": [
              "   country  year  gender  ...   gdp_for_year  gdp_per_capita       generation\n",
              "0  Albania  1987    male  ...  2,156,624,900             796     Generation X\n",
              "1  Albania  1987    male  ...  2,156,624,900             796           Silent\n",
              "2  Albania  1987  female  ...  2,156,624,900             796     Generation X\n",
              "3  Albania  1987    male  ...  2,156,624,900             796  G.I. Generation\n",
              "4  Albania  1987    male  ...  2,156,624,900             796          Boomers\n",
              "\n",
              "[5 rows x 12 columns]"
            ]
          },
          "metadata": {
            "tags": []
          },
          "execution_count": 37
        }
      ]
    },
    {
      "cell_type": "markdown",
      "metadata": {
        "id": "oEyTmc-9Nnmu"
      },
      "source": [
        "###Remove unnecessary columns"
      ]
    },
    {
      "cell_type": "code",
      "metadata": {
        "id": "YqYrtooje8Zu",
        "outputId": "ad9c2f38-bc23-4747-bef9-f6b092d0f86a",
        "colab": {
          "base_uri": "https://localhost:8080/",
          "height": 195
        }
      },
      "source": [
        "#Remove unnecessary columns\n",
        "df.drop([\"country_year\",'hdi','gdp_for_year'],axis=1,inplace=True)\n",
        "df.head()\n",
        "#country_year =>Redundant column\n",
        "#hdi => many NAN values\n",
        "#gdp_for_year  =>we keep gdp_per_capita"
      ],
      "execution_count": null,
      "outputs": [
        {
          "output_type": "execute_result",
          "data": {
            "text/html": [
              "<div>\n",
              "<style scoped>\n",
              "    .dataframe tbody tr th:only-of-type {\n",
              "        vertical-align: middle;\n",
              "    }\n",
              "\n",
              "    .dataframe tbody tr th {\n",
              "        vertical-align: top;\n",
              "    }\n",
              "\n",
              "    .dataframe thead th {\n",
              "        text-align: right;\n",
              "    }\n",
              "</style>\n",
              "<table border=\"1\" class=\"dataframe\">\n",
              "  <thead>\n",
              "    <tr style=\"text-align: right;\">\n",
              "      <th></th>\n",
              "      <th>country</th>\n",
              "      <th>year</th>\n",
              "      <th>gender</th>\n",
              "      <th>age_group</th>\n",
              "      <th>suicide_number</th>\n",
              "      <th>population</th>\n",
              "      <th>sui_pop</th>\n",
              "      <th>gdp_per_capita</th>\n",
              "      <th>generation</th>\n",
              "    </tr>\n",
              "  </thead>\n",
              "  <tbody>\n",
              "    <tr>\n",
              "      <th>0</th>\n",
              "      <td>Albania</td>\n",
              "      <td>1987</td>\n",
              "      <td>male</td>\n",
              "      <td>15-24 years</td>\n",
              "      <td>21</td>\n",
              "      <td>312900</td>\n",
              "      <td>6.71</td>\n",
              "      <td>796</td>\n",
              "      <td>Generation X</td>\n",
              "    </tr>\n",
              "    <tr>\n",
              "      <th>1</th>\n",
              "      <td>Albania</td>\n",
              "      <td>1987</td>\n",
              "      <td>male</td>\n",
              "      <td>35-54 years</td>\n",
              "      <td>16</td>\n",
              "      <td>308000</td>\n",
              "      <td>5.19</td>\n",
              "      <td>796</td>\n",
              "      <td>Silent</td>\n",
              "    </tr>\n",
              "    <tr>\n",
              "      <th>2</th>\n",
              "      <td>Albania</td>\n",
              "      <td>1987</td>\n",
              "      <td>female</td>\n",
              "      <td>15-24 years</td>\n",
              "      <td>14</td>\n",
              "      <td>289700</td>\n",
              "      <td>4.83</td>\n",
              "      <td>796</td>\n",
              "      <td>Generation X</td>\n",
              "    </tr>\n",
              "    <tr>\n",
              "      <th>3</th>\n",
              "      <td>Albania</td>\n",
              "      <td>1987</td>\n",
              "      <td>male</td>\n",
              "      <td>75+ years</td>\n",
              "      <td>1</td>\n",
              "      <td>21800</td>\n",
              "      <td>4.59</td>\n",
              "      <td>796</td>\n",
              "      <td>G.I. Generation</td>\n",
              "    </tr>\n",
              "    <tr>\n",
              "      <th>4</th>\n",
              "      <td>Albania</td>\n",
              "      <td>1987</td>\n",
              "      <td>male</td>\n",
              "      <td>25-34 years</td>\n",
              "      <td>9</td>\n",
              "      <td>274300</td>\n",
              "      <td>3.28</td>\n",
              "      <td>796</td>\n",
              "      <td>Boomers</td>\n",
              "    </tr>\n",
              "  </tbody>\n",
              "</table>\n",
              "</div>"
            ],
            "text/plain": [
              "   country  year  gender  ... sui_pop  gdp_per_capita       generation\n",
              "0  Albania  1987    male  ...    6.71             796     Generation X\n",
              "1  Albania  1987    male  ...    5.19             796           Silent\n",
              "2  Albania  1987  female  ...    4.83             796     Generation X\n",
              "3  Albania  1987    male  ...    4.59             796  G.I. Generation\n",
              "4  Albania  1987    male  ...    3.28             796          Boomers\n",
              "\n",
              "[5 rows x 9 columns]"
            ]
          },
          "metadata": {
            "tags": []
          },
          "execution_count": 38
        }
      ]
    },
    {
      "cell_type": "code",
      "metadata": {
        "id": "9TX2QwTke8cZ",
        "outputId": "55601d47-2015-4150-9c00-e8b523d9dca4",
        "colab": {
          "base_uri": "https://localhost:8080/",
          "height": 52
        }
      },
      "source": [
        "df.age_group.unique()"
      ],
      "execution_count": null,
      "outputs": [
        {
          "output_type": "execute_result",
          "data": {
            "text/plain": [
              "array(['15-24 years', '35-54 years', '75+ years', '25-34 years',\n",
              "       '55-74 years', '5-14 years'], dtype=object)"
            ]
          },
          "metadata": {
            "tags": []
          },
          "execution_count": 222
        }
      ]
    },
    {
      "cell_type": "code",
      "metadata": {
        "id": "0UQpSqzFfDUg",
        "outputId": "c278a537-412c-412c-91f4-75f5c1950e65",
        "colab": {
          "base_uri": "https://localhost:8080/",
          "height": 195
        }
      },
      "source": [
        "#Gives the label to the age_group columns value  \n",
        "df['age_group']=df['age_group'].replace(['15-24 years', '35-54 years', '75+ years', '25-34 years',\n",
        "       '55-74 years', '5-14 years'],['youth','early adult','senior','young adult','adult','child'])  \n",
        "df.head()"
      ],
      "execution_count": null,
      "outputs": [
        {
          "output_type": "execute_result",
          "data": {
            "text/html": [
              "<div>\n",
              "<style scoped>\n",
              "    .dataframe tbody tr th:only-of-type {\n",
              "        vertical-align: middle;\n",
              "    }\n",
              "\n",
              "    .dataframe tbody tr th {\n",
              "        vertical-align: top;\n",
              "    }\n",
              "\n",
              "    .dataframe thead th {\n",
              "        text-align: right;\n",
              "    }\n",
              "</style>\n",
              "<table border=\"1\" class=\"dataframe\">\n",
              "  <thead>\n",
              "    <tr style=\"text-align: right;\">\n",
              "      <th></th>\n",
              "      <th>country</th>\n",
              "      <th>year</th>\n",
              "      <th>gender</th>\n",
              "      <th>age_group</th>\n",
              "      <th>suicide_number</th>\n",
              "      <th>population</th>\n",
              "      <th>sui_pop</th>\n",
              "      <th>gdp_per_capita</th>\n",
              "      <th>generation</th>\n",
              "    </tr>\n",
              "  </thead>\n",
              "  <tbody>\n",
              "    <tr>\n",
              "      <th>0</th>\n",
              "      <td>Albania</td>\n",
              "      <td>1987</td>\n",
              "      <td>male</td>\n",
              "      <td>youth</td>\n",
              "      <td>21</td>\n",
              "      <td>312900</td>\n",
              "      <td>6.71</td>\n",
              "      <td>796</td>\n",
              "      <td>Generation X</td>\n",
              "    </tr>\n",
              "    <tr>\n",
              "      <th>1</th>\n",
              "      <td>Albania</td>\n",
              "      <td>1987</td>\n",
              "      <td>male</td>\n",
              "      <td>early adult</td>\n",
              "      <td>16</td>\n",
              "      <td>308000</td>\n",
              "      <td>5.19</td>\n",
              "      <td>796</td>\n",
              "      <td>Silent</td>\n",
              "    </tr>\n",
              "    <tr>\n",
              "      <th>2</th>\n",
              "      <td>Albania</td>\n",
              "      <td>1987</td>\n",
              "      <td>female</td>\n",
              "      <td>youth</td>\n",
              "      <td>14</td>\n",
              "      <td>289700</td>\n",
              "      <td>4.83</td>\n",
              "      <td>796</td>\n",
              "      <td>Generation X</td>\n",
              "    </tr>\n",
              "    <tr>\n",
              "      <th>3</th>\n",
              "      <td>Albania</td>\n",
              "      <td>1987</td>\n",
              "      <td>male</td>\n",
              "      <td>senior</td>\n",
              "      <td>1</td>\n",
              "      <td>21800</td>\n",
              "      <td>4.59</td>\n",
              "      <td>796</td>\n",
              "      <td>G.I. Generation</td>\n",
              "    </tr>\n",
              "    <tr>\n",
              "      <th>4</th>\n",
              "      <td>Albania</td>\n",
              "      <td>1987</td>\n",
              "      <td>male</td>\n",
              "      <td>young adult</td>\n",
              "      <td>9</td>\n",
              "      <td>274300</td>\n",
              "      <td>3.28</td>\n",
              "      <td>796</td>\n",
              "      <td>Boomers</td>\n",
              "    </tr>\n",
              "  </tbody>\n",
              "</table>\n",
              "</div>"
            ],
            "text/plain": [
              "   country  year  gender  ... sui_pop  gdp_per_capita       generation\n",
              "0  Albania  1987    male  ...    6.71             796     Generation X\n",
              "1  Albania  1987    male  ...    5.19             796           Silent\n",
              "2  Albania  1987  female  ...    4.83             796     Generation X\n",
              "3  Albania  1987    male  ...    4.59             796  G.I. Generation\n",
              "4  Albania  1987    male  ...    3.28             796          Boomers\n",
              "\n",
              "[5 rows x 9 columns]"
            ]
          },
          "metadata": {
            "tags": []
          },
          "execution_count": 39
        }
      ]
    },
    {
      "cell_type": "code",
      "metadata": {
        "id": "7-OMmjLphYa0"
      },
      "source": [
        "df.country.unique()"
      ],
      "execution_count": null,
      "outputs": []
    },
    {
      "cell_type": "code",
      "metadata": {
        "id": "kxcUWO0ohYk7",
        "outputId": "b5b494d6-8f93-4c11-f799-df8f880343cc",
        "colab": {
          "base_uri": "https://localhost:8080/",
          "height": 197
        }
      },
      "source": [
        "df.dtypes"
      ],
      "execution_count": null,
      "outputs": [
        {
          "output_type": "execute_result",
          "data": {
            "text/plain": [
              "country            object\n",
              "year                int64\n",
              "gender             object\n",
              "age_group          object\n",
              "suicide_number      int64\n",
              "population          int64\n",
              "sui_pop           float64\n",
              "gdp_per_capita      int64\n",
              "generation         object\n",
              "dtype: object"
            ]
          },
          "metadata": {
            "tags": []
          },
          "execution_count": 30
        }
      ]
    },
    {
      "cell_type": "markdown",
      "metadata": {
        "id": "UKDFCtK3fNTq"
      },
      "source": [
        "# Encode the necessary columns"
      ]
    },
    {
      "cell_type": "code",
      "metadata": {
        "id": "S3QB7QBvhYop",
        "outputId": "c2a35d59-e341-4260-9204-2b8add1a3a8a",
        "colab": {
          "base_uri": "https://localhost:8080/",
          "height": 195
        }
      },
      "source": [
        "le=LabelEncoder()\n",
        "df.gender=le.fit_transform(df.gender)\n",
        "df.age_group=le.fit_transform(df.age_group)\n",
        "df.generation=le.fit_transform(df.generation)\n",
        "df.country=le.fit_transform(df.country)\n",
        "df.head()"
      ],
      "execution_count": null,
      "outputs": [
        {
          "output_type": "execute_result",
          "data": {
            "text/html": [
              "<div>\n",
              "<style scoped>\n",
              "    .dataframe tbody tr th:only-of-type {\n",
              "        vertical-align: middle;\n",
              "    }\n",
              "\n",
              "    .dataframe tbody tr th {\n",
              "        vertical-align: top;\n",
              "    }\n",
              "\n",
              "    .dataframe thead th {\n",
              "        text-align: right;\n",
              "    }\n",
              "</style>\n",
              "<table border=\"1\" class=\"dataframe\">\n",
              "  <thead>\n",
              "    <tr style=\"text-align: right;\">\n",
              "      <th></th>\n",
              "      <th>country</th>\n",
              "      <th>year</th>\n",
              "      <th>gender</th>\n",
              "      <th>age_group</th>\n",
              "      <th>suicide_number</th>\n",
              "      <th>population</th>\n",
              "      <th>sui_pop</th>\n",
              "      <th>gdp_per_capita</th>\n",
              "      <th>generation</th>\n",
              "    </tr>\n",
              "  </thead>\n",
              "  <tbody>\n",
              "    <tr>\n",
              "      <th>0</th>\n",
              "      <td>0</td>\n",
              "      <td>1987</td>\n",
              "      <td>1</td>\n",
              "      <td>5</td>\n",
              "      <td>21</td>\n",
              "      <td>312900</td>\n",
              "      <td>6.71</td>\n",
              "      <td>796</td>\n",
              "      <td>2</td>\n",
              "    </tr>\n",
              "    <tr>\n",
              "      <th>1</th>\n",
              "      <td>0</td>\n",
              "      <td>1987</td>\n",
              "      <td>1</td>\n",
              "      <td>2</td>\n",
              "      <td>16</td>\n",
              "      <td>308000</td>\n",
              "      <td>5.19</td>\n",
              "      <td>796</td>\n",
              "      <td>5</td>\n",
              "    </tr>\n",
              "    <tr>\n",
              "      <th>2</th>\n",
              "      <td>0</td>\n",
              "      <td>1987</td>\n",
              "      <td>0</td>\n",
              "      <td>5</td>\n",
              "      <td>14</td>\n",
              "      <td>289700</td>\n",
              "      <td>4.83</td>\n",
              "      <td>796</td>\n",
              "      <td>2</td>\n",
              "    </tr>\n",
              "    <tr>\n",
              "      <th>3</th>\n",
              "      <td>0</td>\n",
              "      <td>1987</td>\n",
              "      <td>1</td>\n",
              "      <td>3</td>\n",
              "      <td>1</td>\n",
              "      <td>21800</td>\n",
              "      <td>4.59</td>\n",
              "      <td>796</td>\n",
              "      <td>1</td>\n",
              "    </tr>\n",
              "    <tr>\n",
              "      <th>4</th>\n",
              "      <td>0</td>\n",
              "      <td>1987</td>\n",
              "      <td>1</td>\n",
              "      <td>4</td>\n",
              "      <td>9</td>\n",
              "      <td>274300</td>\n",
              "      <td>3.28</td>\n",
              "      <td>796</td>\n",
              "      <td>0</td>\n",
              "    </tr>\n",
              "  </tbody>\n",
              "</table>\n",
              "</div>"
            ],
            "text/plain": [
              "   country  year  gender  ...  sui_pop  gdp_per_capita  generation\n",
              "0        0  1987       1  ...     6.71             796           2\n",
              "1        0  1987       1  ...     5.19             796           5\n",
              "2        0  1987       0  ...     4.83             796           2\n",
              "3        0  1987       1  ...     4.59             796           1\n",
              "4        0  1987       1  ...     3.28             796           0\n",
              "\n",
              "[5 rows x 9 columns]"
            ]
          },
          "metadata": {
            "tags": []
          },
          "execution_count": 40
        }
      ]
    },
    {
      "cell_type": "markdown",
      "metadata": {
        "id": "2Tx2z7rFhloo"
      },
      "source": [
        "## Separate the data into features and target variables\n",
        "\n",
        "Standardize features by removing the mean and scaling to unit variance\n",
        "\n",
        "The standard score of a sample x is calculated as:\n",
        "\n",
        "z = (x - u) / s\n",
        "\n",
        "where u is the mean of the training samples and s is the standard deviation of the training samples."
      ]
    },
    {
      "cell_type": "code",
      "metadata": {
        "id": "IpsV31ERhYrs"
      },
      "source": [
        "X=df.drop(labels=['suicide_number'],axis=1)\n",
        "y=df['suicide_number']\n",
        "X = StandardScaler().fit_transform(X)\n",
        "y = StandardScaler().fit_transform(y.values.reshape(-1, 1))"
      ],
      "execution_count": null,
      "outputs": []
    },
    {
      "cell_type": "markdown",
      "metadata": {
        "id": "bLMFGngEh5JC"
      },
      "source": [
        "## Spliting the data into training and testing set"
      ]
    },
    {
      "cell_type": "code",
      "metadata": {
        "id": "raq_ZTYWhYw7"
      },
      "source": [
        "from sklearn.model_selection import train_test_split\n",
        "X_train, X_test, y_train, y_test = train_test_split(X, y, test_size=0.4)"
      ],
      "execution_count": null,
      "outputs": []
    },
    {
      "cell_type": "markdown",
      "metadata": {
        "id": "sZJt2MBvh_qC"
      },
      "source": [
        "## Create DNN model\n",
        "Model:\n",
        "\n",
        "Here we have used keras Sequential model. It is a stack of layers where each layer has exacexactly one input and one output layer.\n",
        "\n",
        "Activation function:\n",
        "\n",
        "Activation function is use to decides, wheter a neuron should be activated or not by calculating weighted sum and further adding bias with it.\n",
        "\n",
        "\n",
        "\n",
        "\n",
        "1) ReLU: Here we have use Rectified linear activation function(ReLU) in input \n",
        "layer and in hidding layers. The rectified linear activation function is a simple calculation that returns the value provided as input directly, or the value 0.0 if the input is 0.0 or less.\n",
        "\n",
        "  Equation:\n",
        "   A(x) = max(0,x).\n",
        "   where X is input.\n",
        "\n",
        "2) Linear: Here we have use linear activation function in output layer of the model. \n",
        "\n",
        "  Equation:\n",
        "   A(x)=mX\n",
        "   where m is constant."
      ]
    },
    {
      "cell_type": "code",
      "metadata": {
        "id": "tWjKsUprhYzU"
      },
      "source": [
        "#define the keras model\n",
        "model=Sequential()\n",
        "model.add(Dense(50,input_dim=8, activation='relu'))\n",
        "model.add(Dense(35,activation='relu'))\n",
        "model.add(Dense(20,activation='relu'))\n",
        "model.add(Dense(14,activation='relu'))\n",
        "model.add(Dense(8,activation='relu'))\n",
        "model.add(Dense(5,activation='relu'))\n",
        "model.add(Dense(1,activation='linear'))"
      ],
      "execution_count": null,
      "outputs": []
    },
    {
      "cell_type": "markdown",
      "metadata": {
        "id": "4TVRSeZRiDgq"
      },
      "source": [
        "### Compilation of model\n",
        "Loss function: Loss function is use to estimate the loss of the model so that the weights can be updated to reduce the loss on the next evaluation.\n",
        "\n",
        "MSE:\n",
        "\n",
        "Here we have use mean squared error as loss function. It is the defult loss to use for regression problems.\n",
        "\n",
        "Mean squared error is calculated as the average of the squared differences between the predicted and actual values.The result is always positive regardless of the sign of the predicted and actual values and a perfect value is 0.0. "
      ]
    },
    {
      "cell_type": "code",
      "metadata": {
        "id": "LmUPMQ3rhY2H"
      },
      "source": [
        "#compile the keras model\n",
        "model.compile(loss='mean_squared_error', optimizer='adam', metrics=['mse'])"
      ],
      "execution_count": null,
      "outputs": []
    },
    {
      "cell_type": "markdown",
      "metadata": {
        "id": "YjwYMVyY85u9"
      },
      "source": [
        "###Fit the model"
      ]
    },
    {
      "cell_type": "code",
      "metadata": {
        "id": "VZlxtG6C88bS"
      },
      "source": [
        " history=model.fit(X_train,y_train,epochs=100,\n",
        "                      validation_data=(X_test, y_test),\n",
        "                      verbose=0)"
      ],
      "execution_count": null,
      "outputs": []
    },
    {
      "cell_type": "markdown",
      "metadata": {
        "id": "TgbY-85T9IhR"
      },
      "source": [
        "###Evaluate the model"
      ]
    },
    {
      "cell_type": "code",
      "metadata": {
        "id": "4nNarBM2BoYY",
        "outputId": "422c64fe-5bfb-4de9-da14-52ad147d7fe8",
        "colab": {
          "base_uri": "https://localhost:8080/",
          "height": 52
        }
      },
      "source": [
        "# evaluate the model\n",
        "_,mse_train_dnn = model.evaluate(X_train, y_train, verbose=0)\n",
        "_,mse_test_dnn = model.evaluate(X_test, y_test, verbose=0)\n",
        "print(\"DNN - MSE of the test set  is : \" + str(mse_test_dnn))\n",
        "print(\"DNN - MSE of the training set is : \"+str(mse_train_dnn))"
      ],
      "execution_count": null,
      "outputs": [
        {
          "output_type": "stream",
          "text": [
            "DNN - MSE of the test set  is : 0.002554729813709855\n",
            "DNN - MSE of the training set is : 0.0018819167744368315\n"
          ],
          "name": "stdout"
        }
      ]
    },
    {
      "cell_type": "markdown",
      "metadata": {
        "id": "ZFRcNnJz1jNP"
      },
      "source": [
        "###Trying Linear Regression"
      ]
    },
    {
      "cell_type": "code",
      "metadata": {
        "id": "nRT-krYA1ovO"
      },
      "source": [
        "from sklearn.linear_model import LinearRegression \n",
        "lr=LinearRegression()\n",
        "lr.fit(X_train,y_train)\n",
        "y_pred_test=lr.predict(X_test)\n",
        "y_pred_train=lr.predict(X_train)"
      ],
      "execution_count": null,
      "outputs": []
    },
    {
      "cell_type": "code",
      "metadata": {
        "id": "1UeGhal8349t",
        "outputId": "ace899bf-578e-4461-b144-e182a915b3e2",
        "colab": {
          "base_uri": "https://localhost:8080/",
          "height": 52
        }
      },
      "source": [
        "#evaluate the model\n",
        "from sklearn.metrics import mean_squared_error\n",
        "mse_test_lr=mean_squared_error(y_test,y_pred_test)\n",
        "mse_train_lr=mean_squared_error(y_train,y_pred_train)\n",
        "\n",
        "print(\"Linear Regression - MSE of the test set  is : \" + str(mse_test_lr))\n",
        "print(\"Linear Regression - MSE of the training set is : \"+str(mse_train_lr))"
      ],
      "execution_count": null,
      "outputs": [
        {
          "output_type": "stream",
          "text": [
            "Linear Regression - MSE of the test set  is : 0.5731935291027239\n",
            "Linear Regression - MSE of the training set is : 0.4969264049768335\n"
          ],
          "name": "stdout"
        }
      ]
    },
    {
      "cell_type": "markdown",
      "metadata": {
        "id": "9WN82CuM_-zX"
      },
      "source": [
        "###Trying Decision Tree Regression "
      ]
    },
    {
      "cell_type": "code",
      "metadata": {
        "id": "4XHLbB8yAHL7"
      },
      "source": [
        "from sklearn.tree import DecisionTreeRegressor\n",
        "dtr=DecisionTreeRegressor()\n",
        "dtr.fit(X_train,y_train)\n",
        "y_pred_test=dtr.predict(X_test)\n",
        "y_pred_train=dtr.predict(X_train)"
      ],
      "execution_count": null,
      "outputs": []
    },
    {
      "cell_type": "code",
      "metadata": {
        "id": "FSy-J00hAggF",
        "outputId": "d84ce022-cea7-4356-b77a-ad658e820054",
        "colab": {
          "base_uri": "https://localhost:8080/",
          "height": 52
        }
      },
      "source": [
        "#evaluate the model\n",
        "mse_test_dtr=mean_squared_error(y_test,y_pred_test)\n",
        "mse_train_dtr=mean_squared_error(y_train,y_pred_train)\n",
        "\n",
        "print(\"Decision Tree Regression - MSE of the test set is : \" + str(mse_test_dtr))\n",
        "print(\"Decision Tree Regression - MSE of the training set is : \"+str(mse_train_dtr))"
      ],
      "execution_count": null,
      "outputs": [
        {
          "output_type": "stream",
          "text": [
            "Decision Tree Regression - MSE of the test set is : 0.008032966549333227\n",
            "Decision Tree Regression - MSE of the training set is : 3.285644434244467e-09\n"
          ],
          "name": "stdout"
        }
      ]
    },
    {
      "cell_type": "markdown",
      "metadata": {
        "id": "VCaSYi5_vjRp"
      },
      "source": [
        "###Comparision of models"
      ]
    },
    {
      "cell_type": "code",
      "metadata": {
        "id": "W24d3xeGvmQP",
        "outputId": "85993068-7054-40ef-8231-953d5af04bc8",
        "colab": {
          "base_uri": "https://localhost:8080/",
          "height": 136
        }
      },
      "source": [
        "train_error=[mse_train_dnn,mse_train_lr,mse_train_dtr]\n",
        "test_error=[mse_test_dnn,mse_test_lr,mse_test_dtr]\n",
        "\n",
        "col={'Train Error':train_error,'Test Error':test_error}\n",
        "models=['DNN','Linear Regression','Decision Tree Regression']\n",
        "comp=pd.DataFrame(data=col,index=models)\n",
        "comp"
      ],
      "execution_count": null,
      "outputs": [
        {
          "output_type": "execute_result",
          "data": {
            "text/html": [
              "<div>\n",
              "<style scoped>\n",
              "    .dataframe tbody tr th:only-of-type {\n",
              "        vertical-align: middle;\n",
              "    }\n",
              "\n",
              "    .dataframe tbody tr th {\n",
              "        vertical-align: top;\n",
              "    }\n",
              "\n",
              "    .dataframe thead th {\n",
              "        text-align: right;\n",
              "    }\n",
              "</style>\n",
              "<table border=\"1\" class=\"dataframe\">\n",
              "  <thead>\n",
              "    <tr style=\"text-align: right;\">\n",
              "      <th></th>\n",
              "      <th>Train Error</th>\n",
              "      <th>Test Error</th>\n",
              "    </tr>\n",
              "  </thead>\n",
              "  <tbody>\n",
              "    <tr>\n",
              "      <th>DNN</th>\n",
              "      <td>1.881917e-03</td>\n",
              "      <td>0.002555</td>\n",
              "    </tr>\n",
              "    <tr>\n",
              "      <th>Linear Regression</th>\n",
              "      <td>4.969264e-01</td>\n",
              "      <td>0.573194</td>\n",
              "    </tr>\n",
              "    <tr>\n",
              "      <th>Decision Tree Regression</th>\n",
              "      <td>3.285644e-09</td>\n",
              "      <td>0.008033</td>\n",
              "    </tr>\n",
              "  </tbody>\n",
              "</table>\n",
              "</div>"
            ],
            "text/plain": [
              "                           Train Error  Test Error\n",
              "DNN                       1.881917e-03    0.002555\n",
              "Linear Regression         4.969264e-01    0.573194\n",
              "Decision Tree Regression  3.285644e-09    0.008033"
            ]
          },
          "metadata": {
            "tags": []
          },
          "execution_count": 52
        }
      ]
    },
    {
      "cell_type": "code",
      "metadata": {
        "id": "R_Fr-mZJiiA6",
        "outputId": "fd4027bb-d35c-4872-9b7a-acc544cdedbe",
        "colab": {
          "base_uri": "https://localhost:8080/",
          "height": 401
        }
      },
      "source": [
        "comp.plot(kind='bar')"
      ],
      "execution_count": null,
      "outputs": [
        {
          "output_type": "execute_result",
          "data": {
            "text/plain": [
              "<matplotlib.axes._subplots.AxesSubplot at 0x7f4041721d68>"
            ]
          },
          "metadata": {
            "tags": []
          },
          "execution_count": 53
        },
        {
          "output_type": "display_data",
          "data": {
            "image/png": "[encoded data removed]",
            "text/plain": [
              "<Figure size 432x288 with 1 Axes>"
            ]
          },
          "metadata": {
            "tags": [],
            "needs_background": "light"
          }
        }
      ]
    }
  ]
}